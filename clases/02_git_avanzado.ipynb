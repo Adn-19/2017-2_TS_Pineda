{
 "cells": [
  {
   "cell_type": "markdown",
   "metadata": {
    "heading_collapsed": true
   },
   "source": [
    "# 1. Trabajo colaborativo"
   ]
  },
  {
   "cell_type": "markdown",
   "metadata": {
    "hidden": true
   },
   "source": [
    "El flujo de trabajo que hasta ahora hemos visto es:\n",
    "\n",
    "```\n",
    "    > git init                  # inicializa un repositorio\n",
    "    > git add <archivo>         # da a conocer a git un archivo nuevo o un cambio en un archivo\n",
    "    > git status                # resume los cambios actuales\n",
    "    > git commit -m \"mensaje\"   # saca una foto instantánea del estado actual del proyecto \n",
    "    > git log                   # muestra la bitácora del proyecto\n",
    "\n",
    "```\n",
    "Otro comando que quizá usaron en la tarea fueron:\n",
    "```\n",
    "    > git push                  # sube los cambios a un repositorio central (local o remoto)\n",
    "```\n",
    "\n",
    "(Por ahora \">\" indicará la línea de comandos.)"
   ]
  },
  {
   "cell_type": "markdown",
   "metadata": {
    "hidden": true
   },
   "source": [
    "Ahora veremos un modelo posible de *colaboración*, que iremos complicando poco a poco. Además profundizaremos en el uso del push. "
   ]
  },
  {
   "cell_type": "markdown",
   "metadata": {
    "hidden": true
   },
   "source": [
    "La situación que consideraremos es la siguiente: Alicia (*Alice*) y Beto (*Bob*) colaboran en un proyecto (el que acabamos de clonar). Ambos tienen la misma versión del código. \n",
    "\n",
    "**Alicia:**\n",
    "Alicia edita el archivo `archivo.txt`, y hace algún cambio que le parece conveniente. Siguiendo el esquema de trabajo que describimos arriba, Alicia sube los cambios a su repositorio local con `git add` y `git commit`, y finalmente los sube al repositorio central: `git push`.\n",
    "\n",
    "**Beto:**\n",
    "Beto, por su parte y de manera independiente, hace cambios *al mismo archivo* en que trabajó Alicia. De la misma manera que lo hizo Alicia, Beto actualiza su repositorio local (`git add` y `git commit`) y los sube al repositorio que comparten con `git push`.\n",
    "\n",
    "*Sin embargo*, como él editó el mismo archivo en el que Alicia hizo cambios, pero usando una versión atrasada que *no* incluye los cambios de Alicia, entonces `git` detecta que hubo cambios divergentes entre la versión local de Beto, en la *rama* `master`, y la del repositorio remoto `origin/master`. Esto hace que `git` no permita subir los cambios que propone Beto, hasta que Beto resuelva los *conflictos* que hayan surgido."
   ]
  },
  {
   "cell_type": "markdown",
   "metadata": {
    "hidden": true
   },
   "source": [
    "## Enviando los commits a otro repositorio\n",
    "\n",
    "Vamos a tratar de producir una situación controlada en la que tengamos dicha\n",
    "situación. \n",
    "\n",
    "Para esto vamos a crear un repositorio nuevo. Este repositorio no será de \n",
    "trabajo. Solamente tendrá la información de los archivos, y los comits. \n",
    "Para esto ejecutamos, desde un directorio de prueba (por ejemplo `/tmp` o `~/Desktop`"
   ]
  },
  {
   "cell_type": "code",
   "execution_count": 61,
   "metadata": {
    "collapsed": false,
    "hidden": true
   },
   "outputs": [
    {
     "name": "stdout",
     "output_type": "stream",
     "text": [
      "/mnt/homes/home/david/Desktop\n"
     ]
    }
   ],
   "source": [
    ";cd ~/Desktop"
   ]
  },
  {
   "cell_type": "code",
   "execution_count": 62,
   "metadata": {
    "collapsed": false,
    "hidden": true
   },
   "outputs": [
    {
     "name": "stdout",
     "output_type": "stream",
     "text": [
      "Reinitialized existing Git repository in /mnt/homes/home/david/Desktop/original.git/\n"
     ]
    }
   ],
   "source": [
    ";git init --bare original.git"
   ]
  },
  {
   "cell_type": "markdown",
   "metadata": {
    "hidden": true
   },
   "source": [
    "Los contenidos del directorio son los contenidos del directorio ´.git´ de otros\n",
    "repositorios normales. Esto es por la opción ´--bare´.   \n",
    "Después clonamos este repositorio \"central\" a otro directorio"
   ]
  },
  {
   "cell_type": "code",
   "execution_count": 63,
   "metadata": {
    "collapsed": false,
    "hidden": true
   },
   "outputs": [
    {
     "name": "stdout",
     "output_type": "stream",
     "text": [
      "total 2156\n",
      "drwxrwxr-x  6 david david    4096 feb 21 14:58 .\n",
      "drwxrwxr-- 29 david david 2170880 feb 21 14:57 ..\n",
      "-rw-rw-r--  1 david david      66 feb 21 14:58 config\n",
      "-rw-rw-r--  1 david david      73 feb 21 14:57 description\n",
      "-rw-rw-r--  1 david david      23 feb 21 14:57 HEAD\n",
      "drwxrwxr-x  2 david david    4096 feb 21 14:57 hooks\n",
      "drwxrwxr-x  2 david david    4096 feb 21 14:57 info\n",
      "drwxrwxr-x 32 david david    4096 feb 21 14:57 objects\n",
      "drwxrwxr-x  4 david david    4096 feb 21 14:57 refs\n"
     ]
    }
   ],
   "source": [
    ";ls -la original.git"
   ]
  },
  {
   "cell_type": "code",
   "execution_count": 64,
   "metadata": {
    "collapsed": false,
    "hidden": true
   },
   "outputs": [
    {
     "name": "stderr",
     "output_type": "stream",
     "text": [
      "fatal: destination path 'alice' already exists and is not an empty directory.\n"
     ]
    }
   ],
   "source": [
    ";git clone original.git alice"
   ]
  },
  {
   "cell_type": "markdown",
   "metadata": {
    "hidden": true
   },
   "source": [
    "Pero vemos que el repositorio nuevo es normal:"
   ]
  },
  {
   "cell_type": "code",
   "execution_count": 65,
   "metadata": {
    "collapsed": false,
    "hidden": true
   },
   "outputs": [
    {
     "name": "stdout",
     "output_type": "stream",
     "text": [
      "/mnt/homes/home/david/Desktop/alice\n"
     ]
    }
   ],
   "source": [
    ";cd alice"
   ]
  },
  {
   "cell_type": "code",
   "execution_count": 66,
   "metadata": {
    "collapsed": false,
    "hidden": true
   },
   "outputs": [
    {
     "name": "stdout",
     "output_type": "stream",
     "text": [
      "total 2148\n",
      "drwxrwxr-x  3 david david    4096 feb 21 14:57 ./\n",
      "drwxrwxr-- 29 david david 2170880 feb 21 14:57 ../\n",
      "-rw-rw-r--  1 david david      20 feb 21 14:57 algo.tmp\n",
      "drwxrwxr-x  7 david david    4096 feb 21 14:57 .git/\n",
      "-rw-rw-r--  1 david david       9 feb 21 14:57 .gitignore\n",
      "-rw-rw-r--  1 david david      53 feb 21 14:57 idea_bob.txt\n",
      "-rw-rw-r--  1 david david     108 feb 21 14:57 inicio.txt\n"
     ]
    }
   ],
   "source": [
    ";ls -alp "
   ]
  },
  {
   "cell_type": "markdown",
   "metadata": {
    "hidden": true
   },
   "source": [
    "Ahora creamos un archivo de prueba ahi mismo y hacemos el procedimiento usual para hacer un commit."
   ]
  },
  {
   "cell_type": "code",
   "execution_count": 67,
   "metadata": {
    "collapsed": true,
    "hidden": true
   },
   "outputs": [],
   "source": [
    ";echo \"iniciamos este archivo con perros y gatos\" >> inicio.txt"
   ]
  },
  {
   "cell_type": "code",
   "execution_count": 68,
   "metadata": {
    "collapsed": false,
    "hidden": true
   },
   "outputs": [
    {
     "name": "stdout",
     "output_type": "stream",
     "text": [
      "[master a14fb2a] Commit inicial\n",
      " 1 file changed, 1 insertion(+)\n"
     ]
    }
   ],
   "source": [
    ";git add . && git commit -m\"Commit inicial\""
   ]
  },
  {
   "cell_type": "markdown",
   "metadata": {
    "hidden": true
   },
   "source": [
    "Ahora, dado que clonamos el repositorio de otro, vamos a enviar los cambios (la creación del archivo `inicio.txt`) al respositio central:"
   ]
  },
  {
   "cell_type": "code",
   "execution_count": 69,
   "metadata": {
    "collapsed": false,
    "hidden": true
   },
   "outputs": [
    {
     "name": "stderr",
     "output_type": "stream",
     "text": [
      "To /mnt/homes/home/david/Desktop/original.git\n",
      " ! [rejected]        master -> master (fetch first)\n",
      "error: failed to push some refs to '/mnt/homes/home/david/Desktop/original.git'\n",
      "hint: Updates were rejected because the remote contains work that you do\n",
      "hint: not have locally. This is usually caused by another repository pushing\n",
      "hint: to the same ref. You may want to first integrate the remote changes\n",
      "hint: (e.g., 'git pull ...') before pushing again.\n",
      "hint: See the 'Note about fast-forwards' in 'git push --help' for details.\n"
     ]
    }
   ],
   "source": [
    ";git push origin master"
   ]
  },
  {
   "cell_type": "markdown",
   "metadata": {
    "hidden": true
   },
   "source": [
    "La sintaxis de este comando es `git push repository branchname`. En este caso, `repository` es la dirección o referencia de algun repositorio. Esta puede ser, por `git@github.com:git/git.git`, pero por lo generalusamos alguna que esté determinada por defecto. Por ejemplo, vamos a usar  \n",
    "`origin`  \n",
    "que de acuerdo a "
   ]
  },
  {
   "cell_type": "code",
   "execution_count": 70,
   "metadata": {
    "collapsed": false,
    "hidden": true
   },
   "outputs": [
    {
     "name": "stdout",
     "output_type": "stream",
     "text": [
      "origin\t/mnt/homes/home/david/Desktop/original.git (fetch)\n",
      "origin\t/mnt/homes/home/david/Desktop/original.git (push)\n"
     ]
    }
   ],
   "source": [
    ";git remote -v"
   ]
  },
  {
   "cell_type": "markdown",
   "metadata": {
    "hidden": true
   },
   "source": [
    "es `/home/carlosp/Desktop/tmp/original.git` (en mi caso). El `branchname` es la rama. Hasta ahora, no hemos creado ramas, por lo que nos referiremos a la rama principal, que se llama `master`. Después de el primer comando `git push origin master` podemos abreviarlo como `git push`.\n",
    "\n",
    "Ahora creamos un archivo sin importancia, y modificamos nuestro archivo importante:\n"
   ]
  },
  {
   "cell_type": "code",
   "execution_count": 71,
   "metadata": {
    "collapsed": true,
    "hidden": true
   },
   "outputs": [],
   "source": [
    ";echo \"informacion trivial\" >> algo.tmp && echo \"mas informacion\" >> inicio.txt"
   ]
  },
  {
   "cell_type": "code",
   "execution_count": 72,
   "metadata": {
    "collapsed": false,
    "hidden": true
   },
   "outputs": [
    {
     "name": "stdout",
     "output_type": "stream",
     "text": [
      "On branch master\n",
      "Your branch is ahead of 'origin/master' by 1 commit.\n",
      "  (use \"git push\" to publish your local commits)\n",
      "\n",
      "Changes not staged for commit:\n",
      "  (use \"git add <file>...\" to update what will be committed)\n",
      "  (use \"git checkout -- <file>...\" to discard changes in working directory)\n",
      "\n",
      "\tmodified:   inicio.txt\n",
      "\n",
      "no changes added to commit (use \"git add\" and/or \"git commit -a\")\n"
     ]
    }
   ],
   "source": [
    ";git status"
   ]
  },
  {
   "cell_type": "markdown",
   "metadata": {
    "hidden": true
   },
   "source": [
    "Viendo el `status` notamos que `git` sabe que hemos cambiado el archivo `inicio.txt` y hemos creado un nuevo archivo `algo.tmp`. Supongamos que por error añadimos este último archivo sin importancia:"
   ]
  },
  {
   "cell_type": "code",
   "execution_count": 73,
   "metadata": {
    "collapsed": false,
    "hidden": true
   },
   "outputs": [
    {
     "name": "stdout",
     "output_type": "stream",
     "text": [
      "On branch master\n",
      "Your branch is ahead of 'origin/master' by 1 commit.\n",
      "  (use \"git push\" to publish your local commits)\n",
      "\n",
      "Changes to be committed:\n",
      "  (use \"git reset HEAD <file>...\" to unstage)\n",
      "\n",
      "\tmodified:   inicio.txt\n",
      "\n"
     ]
    }
   ],
   "source": [
    ";git add . && git status"
   ]
  },
  {
   "cell_type": "markdown",
   "metadata": {
    "hidden": true
   },
   "source": [
    "Entonces, el archivo `algo.tmp` se encuentra listo para que los sigamos. Sin embargo, no es lo que queremos. El comando "
   ]
  },
  {
   "cell_type": "code",
   "execution_count": 74,
   "metadata": {
    "collapsed": false,
    "hidden": true
   },
   "outputs": [
    {
     "name": "stderr",
     "output_type": "stream",
     "text": [
      "fatal: pathspec 'algo.tmp' did not match any files\n"
     ]
    }
   ],
   "source": [
    ";git rm --cached algo.tmp"
   ]
  },
  {
   "cell_type": "markdown",
   "metadata": {
    "hidden": true
   },
   "source": [
    "hace que lo borremos de lo que queremos en el commit. Si lo incluimos en el `.gitignore`, entonces vemos que ya no aparece en el status:"
   ]
  },
  {
   "cell_type": "code",
   "execution_count": 75,
   "metadata": {
    "collapsed": true,
    "hidden": true
   },
   "outputs": [],
   "source": [
    ";echo \"algo.tmp\" >> .gitignore"
   ]
  },
  {
   "cell_type": "code",
   "execution_count": 76,
   "metadata": {
    "collapsed": false,
    "hidden": true
   },
   "outputs": [
    {
     "name": "stdout",
     "output_type": "stream",
     "text": [
      "On branch master\n",
      "Your branch is ahead of 'origin/master' by 1 commit.\n",
      "  (use \"git push\" to publish your local commits)\n",
      "\n",
      "Changes to be committed:\n",
      "  (use \"git reset HEAD <file>...\" to unstage)\n",
      "\n",
      "\tmodified:   inicio.txt\n",
      "\n",
      "Changes not staged for commit:\n",
      "  (use \"git add <file>...\" to update what will be committed)\n",
      "  (use \"git checkout -- <file>...\" to discard changes in working directory)\n",
      "\n",
      "\tmodified:   .gitignore\n",
      "\n",
      "[master 9bc8379] Se mejora el gitignore y se anade mas informcion a inicio.txt\n",
      " 2 files changed, 2 insertions(+)\n"
     ]
    },
    {
     "name": "stderr",
     "output_type": "stream",
     "text": [
      "To /mnt/homes/home/david/Desktop/original.git\n",
      " ! [rejected]        master -> master (fetch first)\n",
      "error: failed to push some refs to '/mnt/homes/home/david/Desktop/original.git'\n",
      "hint: Updates were rejected because the remote contains work that you do\n",
      "hint: not have locally. This is usually caused by another repository pushing\n",
      "hint: to the same ref. You may want to first integrate the remote changes\n",
      "hint: (e.g., 'git pull ...') before pushing again.\n",
      "hint: See the 'Note about fast-forwards' in 'git push --help' for details.\n"
     ]
    }
   ],
   "source": [
    ";git status && git add .  && git commit -m\"Se mejora el gitignore y se anade mas informcion a inicio.txt\" && git push"
   ]
  },
  {
   "cell_type": "markdown",
   "metadata": {
    "heading_collapsed": true,
    "hidden": true
   },
   "source": [
    "## Interaccion y errores controlados\n",
    "\n",
    "Comenzamos creando otro repositorio en el que otro personaje (Bob) va a trabajar."
   ]
  },
  {
   "cell_type": "code",
   "execution_count": 77,
   "metadata": {
    "collapsed": false,
    "hidden": true
   },
   "outputs": [
    {
     "name": "stdout",
     "output_type": "stream",
     "text": [
      "/mnt/homes/home/david/Desktop\n"
     ]
    }
   ],
   "source": [
    ";cd .. "
   ]
  },
  {
   "cell_type": "code",
   "execution_count": 78,
   "metadata": {
    "collapsed": false,
    "hidden": true
   },
   "outputs": [
    {
     "name": "stderr",
     "output_type": "stream",
     "text": [
      "fatal: destination path 'bob' already exists and is not an empty directory.\n"
     ]
    }
   ],
   "source": [
    ";git clone original.git bob"
   ]
  },
  {
   "cell_type": "code",
   "execution_count": 79,
   "metadata": {
    "collapsed": false,
    "hidden": true
   },
   "outputs": [
    {
     "name": "stdout",
     "output_type": "stream",
     "text": [
      "/mnt/homes/home/david/Desktop/bob\n"
     ]
    }
   ],
   "source": [
    ";cd bob"
   ]
  },
  {
   "cell_type": "markdown",
   "metadata": {
    "hidden": true
   },
   "source": [
    "Para facilitar un poco la lectura de los logs, vamos a poner otro nombre para el usuario:"
   ]
  },
  {
   "cell_type": "code",
   "execution_count": 80,
   "metadata": {
    "collapsed": false,
    "hidden": true
   },
   "outputs": [],
   "source": [
    ";git config user.name Bob"
   ]
  },
  {
   "cell_type": "markdown",
   "metadata": {
    "heading_collapsed": true,
    "hidden": true
   },
   "source": [
    "## Bob hace un cambio y Alice lo ve"
   ]
  },
  {
   "cell_type": "markdown",
   "metadata": {
    "hidden": true
   },
   "source": [
    "Ahora vamos a crear un nuevo archivo, y a enviarlo."
   ]
  },
  {
   "cell_type": "code",
   "execution_count": 81,
   "metadata": {
    "collapsed": true,
    "hidden": true
   },
   "outputs": [],
   "source": [
    ";echo \"esta es una idea de Bob\" >> idea_bob.txt"
   ]
  },
  {
   "cell_type": "code",
   "execution_count": 82,
   "metadata": {
    "collapsed": false,
    "hidden": true
   },
   "outputs": [
    {
     "name": "stdout",
     "output_type": "stream",
     "text": [
      "[master 335b6e2] Nueva idea\n",
      "commit 335b6e284229a54ad0df71451a935bb60f7ea31b\n",
      "Merge: 50bd4c3 b03a8bf\n",
      "Author: Bob <davidwarro@gmail.com>\n",
      "Date:   Tue Feb 21 14:58:17 2017 -0600\n",
      "\n",
      "    Nueva idea\n",
      "\n",
      "commit 50bd4c38521e9a69cf1e3f1cb027cddaa8857c52\n",
      "Author: Bob <davidwarro@gmail.com>\n",
      "Date:   Tue Feb 21 14:57:13 2017 -0600\n",
      "\n",
      "    Primer intento de correccion\n",
      "\n",
      "commit 985ab4f59f65fc61723652aa73848153786c979d\n",
      "Merge: decb6e3 335123b\n",
      "Author: Bob <davidwarro@gmail.com>\n",
      "Date:   Tue Feb 21 14:57:13 2017 -0600\n",
      "\n",
      "    Hicimos un merge manual\n",
      "\n",
      "commit decb6e3c2d9a9a6731a9015238561ae06178f8c3\n",
      "Author: Bob <davidwarro@gmail.com>\n",
      "Date:   Tue Feb 21 14:57:13 2017 -0600\n",
      "\n",
      "    Otra idea de bob\n",
      "\n",
      "commit 335123b69c4846795edf81b3436cd8b28ea55b8d\n",
      "Author: davidphysdavalos <davidwarro@gmail.com>\n",
      "Date:   Tue Feb 21 14:57:13 2017 -0600\n",
      "\n",
      "    Otra idea de alicia\n",
      "\n",
      "commit b29537c586e9166e87ad05d468b4e76ae8715dc7\n",
      "Merge: 6da6ba4 ebe3d69\n",
      "Author: Bob <davidwarro@gmail.com>\n",
      "Date:   Tue Feb 21 14:57:13 2017 -0600\n",
      "\n",
      "    Merge branch 'master' of /mnt/homes/home/david/Desktop/original\n",
      "\n",
      "commit 6da6ba48d271884ab4f6bd8ff24711e1395eab06\n",
      "Author: Bob <davidwarro@gmail.com>\n",
      "Date:   Tue Feb 21 14:57:13 2017 -0600\n",
      "\n",
      "    Se anade otra fecha\n",
      "\n",
      "commit ebe3d69d864929f239ad9ed745da0127509502a7\n",
      "Author: davidphysdavalos <davidwarro@gmail.com>\n",
      "Date:   Tue Feb 21 14:57:13 2017 -0600\n",
      "\n",
      "    Se anade la fecha\n",
      "\n",
      "commit 87e7216e03100c99cd52b47d239a085f0df3b2df\n",
      "Author: Bob <davidwarro@gmail.com>\n",
      "Date:   Tue Feb 21 14:57:13 2017 -0600\n",
      "\n",
      "    Nueva idea\n",
      "\n",
      "commit 920ad4d08ac8995b55ea2c0b4242b98c9e656a31\n",
      "Author: davidphysdavalos <davidwarro@gmail.com>\n",
      "Date:   Tue Feb 21 14:57:13 2017 -0600\n",
      "\n",
      "    Se mejora el gitignore y se anade mas informcion a inicio.txt\n",
      "\n",
      "commit d0c07f5446752599aa1313bfdce9c2e2b0d912f9\n",
      "Author: davidphysdavalos <davidwarro@gmail.com>\n",
      "Date:   Tue Feb 21 14:57:12 2017 -0600\n",
      "\n",
      "    Commit inicial\n",
      "\n",
      "commit b03a8bff9d57ca41f0d90b68f18f975e5a7f937a\n",
      "Merge: 5fc848e 57ed975\n",
      "Author: David P. Sanders <dpsanders@gmail.com>\n",
      "Date:   Tue Apr 28 10:16:54 2015 -0500\n",
      "\n",
      "    Merge pull request #33 from dpsanders/master\n",
      "    \n",
      "    Notebook sobre intervalos multi-dimensionales\n",
      "\n",
      "commit 57ed97526afa7f922a43a34dfdc2509274431034\n",
      "Author: David P. Sanders <dpsanders@gmail.com>\n",
      "Date:   Tue Apr 28 10:16:37 2015 -0500\n",
      "\n",
      "    Agregué notebook 11, intervalos multi-dimensionales\n",
      "\n",
      "commit 5fc848ea77a09a1a61a6c4c75e4f32f2cb415cf1\n",
      "Merge: dcd2fdb 5c2430c\n",
      "Author: David P. Sanders <dpsanders@gmail.com>\n",
      "Date:   Mon Apr 27 11:39:18 2015 -0500\n",
      "\n",
      "    Merge pull request #32 from dpsanders/master\n",
      "    \n",
      "    Agregar liga al libro de Moore\n",
      "\n",
      "commit 5c2430cf7042bff4bfc0f864bddfd2310b8a5505\n",
      "Author: David P. Sanders <dpsanders@gmail.com>\n",
      "Date:   Mon Apr 27 11:38:50 2015 -0500\n",
      "\n",
      "    Agregué liga al libro de Moore\n",
      "\n",
      "commit dcd2fdba1bb1fb62fa862a65555c7d8fdbb6402a\n",
      "Merge: 4d79769 6eade8b\n",
      "Author: David P. Sanders <dpsanders@gmail.com>\n",
      "Date:   Mon Apr 27 10:47:03 2015 -0500\n",
      "\n",
      "    Merge pull request #31 from dpsanders/master\n",
      "    \n",
      "    Actualización de proyectos finales\n",
      "\n",
      "commit 6eade8b5ec3742313a2583fc41e20b990087debc\n",
      "Author: David P. Sanders <dpsanders@gmail.com>\n",
      "Date:   Mon Apr 27 10:46:38 2015 -0500\n",
      "\n",
      "    Agregué liga al artículo de Rump en el notebook de proyectos\n",
      "\n",
      "commit 4d79769cc83c5caf91b971fe2b222a55cedcf484\n",
      "Merge: 5167f53 1666242\n",
      "Author: David P. Sanders <dpsanders@gmail.com>\n",
      "Date:   Mon Apr 27 10:41:43 2015 -0500\n",
      "\n",
      "    Merge pull request #30 from dpsanders/master\n",
      "    \n",
      "    Proyectos finales\n",
      "\n",
      "commit 16662421ec924f5f835ac65d073d1b775721430c\n",
      "Author: David P. Sanders <dpsanders@gmail.com>\n",
      "Date:   Mon Apr 27 10:41:19 2015 -0500\n",
      "\n",
      "    Agregué notebook con info sobre proyectos finales\n",
      "\n",
      "commit 5167f536d4e308f707f237c79a2d2ca3f86f2bb9\n",
      "Merge: df8069e 354789e\n",
      "Author: David P. Sanders <dpsanders@gmail.com>\n",
      "Date:   Tue Apr 21 10:21:27 2015 -0500\n",
      "\n",
      "    Merge pull request #29 from dpsanders/master\n",
      "    \n",
      "    Actualización del notebook 10\n",
      "\n",
      "commit 354789e9e006f96e900274d262e0bcf6c5b3672e\n",
      "Author: David P. Sanders <dpsanders@gmail.com>\n",
      "Date:   Tue Apr 21 10:08:56 2015 -0500\n",
      "\n",
      "    Agregué comentario sobre Newton para intervalos al 10\n",
      "\n",
      "commit 5ff642061dac6b5a6bc2eb0daa0341196feeda97\n",
      "Author: David P. Sanders <dpsanders@gmail.com>\n",
      "Date:   Tue Apr 21 10:06:56 2015 -0500\n",
      "\n",
      "    Agregué división extendida al notebook 10\n",
      "\n",
      "commit da1ba208108cb1e969491d219627c65fd7f5804e\n",
      "Author: David P. Sanders <dpsanders@gmail.com>\n",
      "Date:   Mon Apr 20 10:26:47 2015 -0500\n",
      "\n",
      "    Removí acentos del nombre de los notebooks 9 y 10 y agregué detalles al 10\n",
      "\n",
      "commit df8069e8a887b6d586ba601b396e738edd88d90b\n",
      "Merge: 3bd3b0d 021529f\n",
      "Author: Luis Benet <lbenet@users.noreply.github.com>\n",
      "Date:   Mon Apr 20 07:35:17 2015 -0500\n",
      "\n",
      "    Merge pull request #28 from lbenet/lbenet\n",
      "    \n",
      "    Agregué el notebook 10 con el método de Newton para intervalos\n",
      "\n",
      "commit 021529f08205b081c43ef0e5a0d2ca2377c049e7\n",
      "Author: Luis Benet <benet@fis.unam.mx>\n",
      "Date:   Mon Apr 20 07:32:56 2015 -0500\n",
      "\n",
      "    Agregué el notebook 10 con el método de Newton para intervalos\n",
      "\n",
      "commit 3bd3b0d135a5efd27111fcf6eec5fa6d6ea5ac5e\n",
      "Author: Luis Benet <lbenet@users.noreply.github.com>\n",
      "Date:   Tue Apr 14 10:22:02 2015 -0500\n",
      "\n",
      "    Update 09. El método de Newton.ipynb\n",
      "    \n",
      "    Corrección de una errata\n",
      "\n",
      "commit d85f9f6de1dec8580a8b2a82c5636d83ef9b6847\n",
      "Merge: 7d7aa06 657ad1c\n",
      "Author: David P. Sanders <dpsanders@gmail.com>\n",
      "Date:   Mon Apr 13 09:26:42 2015 -0500\n",
      "\n",
      "    Merge pull request #27 from dpsanders/master\n",
      "    \n",
      "    Notebook 09\n",
      "\n",
      "commit 657ad1cf43d6605fa5cfe888a59bf7d2bd499185\n",
      "Author: David P. Sanders <dpsanders@gmail.com>\n",
      "Date:   Mon Apr 13 09:26:19 2015 -0500\n",
      "\n",
      "    Agregué notebook 09, método de Newton usual\n",
      "\n",
      "commit 7d7aa067886de78c7f93ef62d513ed77672eb51e\n",
      "Merge: 7949a93 2d8a87a\n",
      "Author: David P. Sanders <dpsanders@gmail.com>\n",
      "Date:   Mon Apr 6 10:06:57 2015 -0500\n",
      "\n",
      "    Merge pull request #26 from dpsanders/master\n",
      "    \n",
      "    Agregué al notebook 08 cómo hacer una rutina para encontrar raíces de una función\n",
      "\n",
      "commit 2d8a87aa24f287a0cf075a8cdf083e19d4ef7aad\n",
      "Author: David P. Sanders <dpsanders@gmail.com>\n",
      "Date:   Mon Apr 6 10:00:29 2015 -0500\n",
      "\n",
      "    Agregué al notebook 08 cómo hacer una rutina para encontrar raíces de una función\n",
      "\n",
      "commit 7949a9312ca4cff9edf7c6b8a9cbffa400cd7a77\n",
      "Merge: cc881f3 e300eb6\n",
      "Author: David P. Sanders <dpsanders@gmail.com>\n",
      "Date:   Mon Apr 6 09:37:44 2015 -0500\n",
      "\n",
      "    Merge pull request #25 from lbenet/lbenet\n",
      "    \n",
      "    Agregué una primera parte del notebook 8\n",
      "\n",
      "commit e300eb63e0501a98af02258d789b5698bac051d6\n",
      "Author: Luis Benet <benet@fis.unam.mx>\n",
      "Date:   Mon Apr 6 08:00:41 2015 -0500\n",
      "\n",
      "    Agregué una primera parte del notebook 8\n",
      "    \n",
      "    Tiene 4 ejercicios que involucran la extensión de intervalos\n",
      "    a las funciones estándares.\n",
      "\n",
      "commit cc881f3fef51b0e473e7a42c2410a837b8e363f4\n",
      "Merge: d02c9a5 cda9f80\n",
      "Author: David P. Sanders <dpsanders@gmail.com>\n",
      "Date:   Mon Mar 23 09:23:14 2015 -0600\n",
      "\n",
      "    Merge pull request #24 from dpsanders/master\n",
      "    \n",
      "    Modificaciones menores al notebook 07\n",
      "\n",
      "commit cda9f8070c0f596c06c8efb515fb3fed8bc48908\n",
      "Author: David P. Sanders <dpsanders@gmail.com>\n",
      "Date:   Mon Mar 23 09:22:39 2015 -0600\n",
      "\n",
      "    Modificaciones menores al notebook 07 para ser más explícito\n",
      "\n",
      "commit d02c9a5f07d1e62375b312d837562502c5dd1e28\n",
      "Merge: df986c5 60b5bdd\n",
      "Author: David P. Sanders <dpsanders@gmail.com>\n",
      "Date:   Wed Mar 18 10:37:40 2015 -0600\n",
      "\n",
      "    Merge pull request #23 from dpsanders/master\n",
      "    \n",
      "    Agregué el notebook que hice en la clase del 17 de marzo sobre tipos compósitos.\n",
      "\n",
      "commit 60b5bdd94d048b4c3d88ac8c0bc51d63615c7c84\n",
      "Author: David P. Sanders <dpsanders@gmail.com>\n",
      "Date:   Tue Mar 17 12:47:27 2015 -0600\n",
      "\n",
      "    Agregué explicación de tipos que hicimos en clase 03-17\n",
      "\n",
      "commit df986c5ac4e67ecb6a06b6ae400861efe381b141\n",
      "Merge: c357560 da723c4\n",
      "Author: David P. Sanders <dpsanders@gmail.com>\n",
      "Date:   Tue Mar 17 10:22:19 2015 -0600\n",
      "\n",
      "    Merge pull request #22 from dpsanders/master\n",
      "    \n",
      "    Agregué notebook 07, aritmética de intervalos\n",
      "\n",
      "commit da723c4f51c0a3e06b7c23b3998074597c985fe9\n",
      "Author: David P. Sanders <dpsanders@gmail.com>\n",
      "Date:   Tue Mar 17 10:22:03 2015 -0600\n",
      "\n",
      "    Agregué que testeen el código de alguien más al notebook 07\n",
      "\n",
      "commit f6242714c06c092de1e35b3baaba3837be063db9\n",
      "Author: David P. Sanders <dpsanders@gmail.com>\n",
      "Date:   Tue Mar 17 08:55:59 2015 -0600\n",
      "\n",
      "    Agregué notebook 07, aritmética de intervalos\n",
      "\n",
      "commit c357560499fb1abf34c8b6fa8deceb7544261b63\n",
      "Merge: f915944 9ecf2e1\n",
      "Author: Luis Benet <lbenet@users.noreply.github.com>\n",
      "Date:   Tue Mar 10 10:55:09 2015 -0600\n",
      "\n",
      "    Merge pull request #21 from lbenet/lbenet\n",
      "    \n",
      "    Agregué una propiedad más en el ejercicio 6\n",
      "\n",
      "commit 9ecf2e10a0e134f03831b5d55afe1b1003ba5854\n",
      "Author: Luis Benet <benet@fis.unam.mx>\n",
      "Date:   Tue Mar 10 10:54:04 2015 -0600\n",
      "\n",
      "    Agregué una propiedad más en el ejercicio 6\n",
      "\n",
      "commit f915944f481c68585db07a57100e6c7ad2a86306\n",
      "Merge: 4eea8af c057514\n",
      "Author: David P. Sanders <dpsanders@gmail.com>\n",
      "Date:   Mon Mar 9 10:11:27 2015 -0600\n",
      "\n",
      "    Merge pull request #20 from dpsanders/master\n",
      "    \n",
      "    Update 06\n",
      "\n",
      "commit c05751484359a4c725e141e29aec4e0b105ccc84\n",
      "Author: David P. Sanders <dpsanders@gmail.com>\n",
      "Date:   Mon Mar 9 10:10:39 2015 -0600\n",
      "\n",
      "    Reagregué la versión correcta de 06\n",
      "\n",
      "commit 7057378011abffb3a6c6642f35c93aa75bf37803\n",
      "Author: David P. Sanders <dpsanders@gmail.com>\n",
      "Date:   Mon Mar 9 10:10:13 2015 -0600\n",
      "\n",
      "    Removí 06 ya que hay algún problema de desincronización entre versiones\n",
      "\n",
      "commit c27dedb90ad7a6d24c39c82ee8bb8263bdb85bc8\n",
      "Author: David P. Sanders <dpsanders@gmail.com>\n",
      "Date:   Mon Mar 9 10:08:57 2015 -0600\n",
      "\n",
      "    Updated 06\n",
      "\n",
      "commit 4eea8af3e20521d6be2a691e4f056c30cdf07e75\n",
      "Merge: 043d71d 69235ad\n",
      "Author: David P. Sanders <dpsanders@gmail.com>\n",
      "Date:   Mon Mar 9 10:04:00 2015 -0600\n",
      "\n",
      "    Merge pull request #19 from dpsanders/master\n",
      "    \n",
      "    Agregué los cambios de Luis a mi versión\n",
      "\n",
      "commit 69235ad13422e3856fc4197e88f0e7b5164add76\n",
      "Author: David P. Sanders <dpsanders@gmail.com>\n",
      "Date:   Mon Mar 9 10:02:56 2015 -0600\n",
      "\n",
      "    Agregué los cambios de Luis a mi versión\n",
      "\n",
      "commit 043d71d066033e5a1a4e6b4514930f238517f871\n",
      "Merge: 65c8ba0 645d49f\n",
      "Author: David P. Sanders <dpsanders@gmail.com>\n",
      "Date:   Mon Mar 9 09:52:51 2015 -0600\n",
      "\n",
      "    Merge pull request #17 from dpsanders/master\n",
      "    \n",
      "    Agregué anotación de tipos y un ejercicio sobre intervalos al notebook 06, tipos compósitos\n",
      "\n",
      "commit 645d49f3f1ac60dceb8c662d3e9d37d12db7cf6f\n",
      "Merge: 1fed7cc 65c8ba0\n",
      "Author: David P. Sanders <dpsanders@gmail.com>\n",
      "Date:   Mon Mar 9 09:52:39 2015 -0600\n",
      "\n",
      "    Merged but chose my version of 06\n",
      "\n",
      "commit 65c8ba02fde2e89a049d4863f9981062ca9b0201\n",
      "Merge: 047deea 9306216\n",
      "Author: David P. Sanders <dpsanders@gmail.com>\n",
      "Date:   Mon Mar 9 09:48:44 2015 -0600\n",
      "\n",
      "    Merge pull request #16 from lbenet/lbenet\n",
      "    \n",
      "    Agregué en la descripción de las propiedades qué pasa con las potencias.\n",
      "\n",
      "commit 1fed7ccfddc673186d187fc834cb943424641750\n",
      "Author: David P. Sanders <dpsanders@gmail.com>\n",
      "Date:   Mon Mar 9 09:31:25 2015 -0600\n",
      "\n",
      "    Agregué anotación de tipos y un ejercicio sobre intervalos al notebook 06, tipos compósitos\n",
      "\n",
      "commit 93062165c74f2e49732272291525acca205ffda7\n",
      "Author: Luis Benet <benet@fis.unam.mx>\n",
      "Date:   Mon Mar 2 15:31:43 2015 -0600\n",
      "\n",
      "    Incluí otro inciso en el último problema de este notebook\n",
      "\n",
      "commit 047deeadc6ff295f3cf7873df7fd89c9a87321f1\n",
      "Merge: b9bb36e 9cf2b40\n",
      "Author: Luis Benet <lbenet@users.noreply.github.com>\n",
      "Date:   Mon Mar 2 15:21:31 2015 -0600\n",
      "\n",
      "    Merge pull request #15 from lbenet/lbenet\n",
      "    \n",
      "    Agregué un nuevo problema: suma infinita de 1/n\n",
      "\n",
      "commit 9cf2b40c61ba2999d306b4b9c2a32b9b0aa791cd\n",
      "Author: Luis Benet <benet@fis.unam.mx>\n",
      "Date:   Mon Mar 2 15:20:16 2015 -0600\n",
      "\n",
      "    Agregué otro problema al notebook 6\n",
      "\n",
      "commit 0c119ca9b46496cb910111d18bdfbf2474b5197f\n",
      "Author: Luis Benet <benet@fis.unam.mx>\n",
      "Date:   Mon Mar 2 11:33:53 2015 -0600\n",
      "\n",
      "    Notebook con discusiones en la clase sobre redondeo\n",
      "\n",
      "commit f652d1e0d8e12df8d9b1d252d8efe90dd5ddf4de\n",
      "Author: Luis Benet <benet@fis.unam.mx>\n",
      "Date:   Mon Mar 2 10:47:14 2015 -0600\n",
      "\n",
      "    Agregué un nuevo problema: suma infinita de 1/n\n",
      "\n",
      "commit b9bb36e099f329f8f3e331fa745c3d8cdc193d26\n",
      "Merge: c863ba5 c302323\n",
      "Author: Luis Benet <lbenet@users.noreply.github.com>\n",
      "Date:   Mon Mar 2 10:41:28 2015 -0600\n",
      "\n",
      "    Merge pull request #14 from lbenet/lbenet\n",
      "    \n",
      "    Agregué un nuevo problema, donde implementan la suma de maneras distinta...\n",
      "\n",
      "commit c3023234265ada3e2cecbd2d85119b723937ad00\n",
      "Author: Luis Benet <benet@fis.unam.mx>\n",
      "Date:   Mon Mar 2 10:25:58 2015 -0600\n",
      "\n",
      "    Agregué un nuevo problema, donde implementan la suma de maneras distintas y comparan resultados\n",
      "\n",
      "commit c863ba5f17a34e9e661e897e9d218b58f558466a\n",
      "Merge: 684daec 02171fc\n",
      "Author: Luis Benet <lbenet@users.noreply.github.com>\n",
      "Date:   Mon Mar 2 09:12:44 2015 -0600\n",
      "\n",
      "    Merge pull request #13 from dpsanders/master\n",
      "    \n",
      "    Agregué calculo de suma infinita al notebook 5, redondeo (en la versión del notebook de IPython 3)\n",
      "\n",
      "commit 02171fcd10e0ceeb71d3051f57cbace28e4d3a15\n",
      "Author: David P. Sanders <dpsanders@gmail.com>\n",
      "Date:   Mon Mar 2 08:45:32 2015 -0600\n",
      "\n",
      "    Versión del notebook 05 redondeo para IPython 2 con suma infinita\n",
      "\n",
      "commit b746427a2be66d19303fe90d2d87e537804759ed\n",
      "Author: David P. Sanders <dpsanders@gmail.com>\n",
      "Date:   Mon Mar 2 08:38:12 2015 -0600\n",
      "\n",
      "    Agregué calculo de suma infinita al notebook 5, redondeo\n",
      "\n",
      "commit 684daec84e5ad141c318106a7a437e2f55ddee5a\n",
      "Merge: a448fbb b8a6369\n",
      "Author: Luis Benet <lbenet@users.noreply.github.com>\n",
      "Date:   Sun Mar 1 15:38:04 2015 -0600\n",
      "\n",
      "    Merge pull request #12 from lbenet/lbenet\n",
      "    \n",
      "    Adiciones al notebook 05\n",
      "\n",
      "commit b8a6369a01faf9066e24113914340916ef17b8eb\n",
      "Author: Luis Benet <benet@fis.unam.mx>\n",
      "Date:   Tue Feb 24 15:05:27 2015 -0600\n",
      "\n",
      "    Adiciones al notebook 05\n",
      "\n",
      "commit a448fbb2addb4b5fb6860c4eb9464881588529cd\n",
      "Author: Luis Benet <lbenet@users.noreply.github.com>\n",
      "Date:   Tue Feb 24 11:31:39 2015 -0600\n",
      "\n",
      "    Update 04. Numeros de punto flotante.ipynb\n",
      "\n",
      "commit 038545df5fa3491b611f27cea0c56eede02101ca\n",
      "Merge: 9916154 2406598\n",
      "Author: Luis Benet <lbenet@users.noreply.github.com>\n",
      "Date:   Tue Feb 24 10:37:29 2015 -0600\n",
      "\n",
      "    Merge pull request #11 from dpsanders/master\n",
      "    \n",
      "    Agregué notebooks 05 redondeo y 06 tipos\n",
      "\n",
      "commit 2406598356ad53272c1ad0df0a25eee26c6b454a\n",
      "Author: David P. Sanders <dpsanders@gmail.com>\n",
      "Date:   Tue Feb 24 10:37:11 2015 -0600\n",
      "\n",
      "    Otro typo en notebook 4\n",
      "\n",
      "commit 96c69239e225ad39e95cb850506d69ce2c0d8ddd\n",
      "Author: David P. Sanders <dpsanders@gmail.com>\n",
      "Date:   Tue Feb 24 10:25:29 2015 -0600\n",
      "\n",
      "    Removí notebook 4 viejo. Typo en notebook 4\n",
      "\n",
      "commit 9b9d81665737caadd4b14b5f925eb6d18205cbe2\n",
      "Author: David P. Sanders <dpsanders@gmail.com>\n",
      "Date:   Tue Feb 24 09:01:47 2015 -0600\n",
      "\n",
      "    Cambié el nombre del notebook 04 para remover redondeo. Agregué 05 redondeo y 06 tipos\n",
      "\n",
      "commit 03b4fcabce5771bd93f08cb72d26a470fcdbae27\n",
      "Author: David P. Sanders <dpsanders@gmail.com>\n",
      "Date:   Tue Feb 24 08:09:32 2015 -0600\n",
      "\n",
      "    Typos en notebook 4\n",
      "\n",
      "commit 9916154bdde5144d434c514808c6ebcaf8ca9f83\n",
      "Merge: 454ebbd 5945ef3\n",
      "Author: Luis Benet <lbenet@users.noreply.github.com>\n",
      "Date:   Mon Feb 23 09:09:56 2015 -0600\n",
      "\n",
      "    Merge pull request #10 from lbenet/lbenet\n",
      "    \n",
      "    Add notebook 04 (first part) and additions in the last class notebook\n",
      "\n",
      "commit 5945ef3b2f39c7dcc5777e892d8e6fe0c1940f2c\n",
      "Author: Luis Benet <benet@fis.unam.mx>\n",
      "Date:   Sun Feb 22 23:22:54 2015 -0600\n",
      "\n",
      "    Add notebook 04\n",
      "\n",
      "commit 30e73044d67004e05110e14cd6c7b020e4ba8e51\n",
      "Author: Luis Benet <benet@fis.unam.mx>\n",
      "Date:   Sun Feb 22 23:21:51 2015 -0600\n",
      "\n",
      "    Últimas adiciones de la clase\n",
      "\n",
      "commit 454ebbdc9d9ca022019f6f20d5280a032e884c40\n",
      "Merge: 25f9948 0017821\n",
      "Author: Luis Benet <lbenet@users.noreply.github.com>\n",
      "Date:   Tue Feb 17 11:32:01 2015 -0600\n",
      "\n",
      "    Merge pull request #9 from dpsanders/restructure\n",
      "    \n",
      "    Restructure with notebooks moved to their own directory\n",
      "\n",
      "commit 25f9948ceb160f888bddc383f2d605a917ddd3ad\n",
      "Merge: 521a5f6 477012b\n",
      "Author: Luis Benet <lbenet@users.noreply.github.com>\n",
      "Date:   Tue Feb 17 11:31:45 2015 -0600\n",
      "\n",
      "    Merge pull request #8 from dpsanders/clases\n",
      "    \n",
      "    Agregué directorio clases\n",
      "\n",
      "commit 521a5f66e7934afc7c618dcd6e36ef593658aa43\n",
      "Merge: ae8aacd e2e518f\n",
      "Author: Luis Benet <lbenet@users.noreply.github.com>\n",
      "Date:   Tue Feb 17 11:29:53 2015 -0600\n",
      "\n",
      "    Merge pull request #7 from dpsanders/tarea2\n",
      "    \n",
      "    Agregué tarea 2\n",
      "\n",
      "commit e2e518f0ec5a852a4f956a297f6004aa8ffe5afc\n",
      "Author: David P. Sanders <dpsanders@gmail.com>\n",
      "Date:   Tue Feb 17 11:15:48 2015 -0600\n",
      "\n",
      "    Modificación minima a tarea 2\n",
      "\n",
      "commit 477012bc3ce0be7b825ebcfae5e78023fefcfd37\n",
      "Author: David P. Sanders <dpsanders@gmail.com>\n",
      "Date:   Tue Feb 17 11:12:37 2015 -0600\n",
      "\n",
      "    Agregué notebook de la clase de hoy en directorio clases\n",
      "\n",
      "commit 387a56df8502dfb87f441ebf0aab4d9745d72af7\n",
      "Author: David P. Sanders <dpsanders@gmail.com>\n",
      "Date:   Tue Feb 17 11:11:52 2015 -0600\n",
      "\n",
      "    Agregúe tarea 2\n",
      "\n",
      "commit 0017821fc364c22c76b22c83d5291296ceae6620\n",
      "Author: David P. Sanders <dpsanders@gmail.com>\n",
      "Date:   Tue Feb 17 10:37:34 2015 -0600\n",
      "\n",
      "    Put notebooks into notebooks directory. Added clases directory. Added my name to LICENSE\n",
      "\n",
      "commit ae8aacd93f8ba6d847848d8ea11740de89f2d4d2\n",
      "Merge: ebcb8b0 73d9bf2\n",
      "Author: Luis Benet <lbenet@users.noreply.github.com>\n",
      "Date:   Mon Feb 16 09:46:46 2015 -0600\n",
      "\n",
      "    Merge pull request #6 from dpsanders/add_fork_instructions\n",
      "    \n",
      "    Agregué instrucciones sobre cómo agregar un remoto upstream al notebook 02.\n",
      "\n",
      "commit 73d9bf28f26f77d35178f7620a5160c526ba7594\n",
      "Author: David P. Sanders <dpsanders@gmail.com>\n",
      "Date:   Mon Feb 16 09:43:16 2015 -0600\n",
      "\n",
      "    Agregué instrucciones de cómo agregar un remote upstream al notebook 02\n",
      "\n",
      "commit ebcb8b05b8b2fb71d58a76c1602d11712d077620\n",
      "Merge: 24f59f5 b2c6031\n",
      "Author: David P. Sanders <dpsanders@gmail.com>\n",
      "Date:   Mon Feb 16 09:29:34 2015 -0600\n",
      "\n",
      "    Merge pull request #3 from lbenet/lbenet\n",
      "    \n",
      "    Add instalation instructions for git, iphyton notebook and julia\n",
      "\n",
      "commit 24f59f544d331140b2c1fe5ad582fcd5d8c8a05d\n",
      "Merge: b8cc56f fb84a7f\n",
      "Author: Luis Benet <lbenet@users.noreply.github.com>\n",
      "Date:   Mon Feb 16 08:51:19 2015 -0600\n",
      "\n",
      "    Merge pull request #5 from dpsanders/master\n",
      "    \n",
      "    Agregué notebook 03.\n",
      "\n",
      "commit fb84a7f731752ac16421c34fc6087e6f5c921390\n",
      "Author: David P. Sanders <dpsanders@gmail.com>\n",
      "Date:   Mon Feb 16 08:22:19 2015 -0600\n",
      "\n",
      "    Removí la versión del notebook 03 con acentos en el nombre\n",
      "\n",
      "commit cd7ad35cecb1ef8387f822879fe985eb031ee333\n",
      "Author: David P. Sanders <dpsanders@gmail.com>\n",
      "Date:   Mon Feb 16 08:21:26 2015 -0600\n",
      "\n",
      "    Agregué el notebook 03, representación de números\n",
      "\n",
      "commit b2c6031aac2d99b0e3ba19605641b220f117e921\n",
      "Author: Luis Benet <benet@fis.unam.mx>\n",
      "Date:   Tue Feb 10 12:16:01 2015 -0600\n",
      "\n",
      "    Add instalation instructions for git, iphyton notebook and julia\n",
      "\n",
      "commit 899de1deeaa66af4c16a306a358342e103373cab\n",
      "Author: David P. Sanders <dpsanders@gmail.com>\n",
      "Date:   Tue Feb 10 11:12:45 2015 -0600\n",
      "\n",
      "    Agregué tarea 1\n",
      "\n",
      "commit b8cc56f0c6a327a6bceda53872cf600b5e202e6b\n",
      "Merge: 1699a17 9bbb8c8\n",
      "Author: Luis Benet <lbenet@users.noreply.github.com>\n",
      "Date:   Mon Feb 9 22:31:28 2015 -0600\n",
      "\n",
      "    Merge pull request #2 from dpsanders/master\n",
      "    \n",
      "    Agregué una sección sobre claves SSH a notebook 02\n",
      "\n",
      "commit 9bbb8c84a85cdde048cf9ca7468eff6018765507\n",
      "Author: David P. Sanders <dpsanders@gmail.com>\n",
      "Date:   Mon Feb 9 10:06:36 2015 -0600\n",
      "\n",
      "    Agregué una sección sobre claves SSH a notebook 02\n",
      "\n",
      "commit 1699a17f34ea08c2754ec5f0b325f56e487cb688\n",
      "Merge: bbb844f dc614d5\n",
      "Author: Luis Benet <lbenet@users.noreply.github.com>\n",
      "Date:   Mon Feb 9 09:26:38 2015 -0600\n",
      "\n",
      "    Merge pull request #1 from dpsanders/master\n",
      "    \n",
      "    Modificaciones menores a 02 git, y cambio de nombre de los notebooks.\n",
      "\n",
      "commit dc614d5454d712e16f56f08786484be4242abf4a\n",
      "Author: David P. Sanders <dpsanders@gmail.com>\n",
      "Date:   Mon Feb 9 08:41:59 2015 -0600\n",
      "\n",
      "    No logré cambiar los nombres. Borrando los notebooks anteriores\n",
      "\n",
      "commit 6973d8199609af3ec59cb63843ee7d83c43e8bb8\n",
      "Author: David P. Sanders <dpsanders@gmail.com>\n",
      "Date:   Mon Feb 9 08:38:26 2015 -0600\n",
      "\n",
      "    Modifiqué notebook 02 (git avanzado) con varios cambios menores. Cambié los nombres de los notebooks 01 y 02.\n",
      "\n",
      "commit 83956c9c45f6dc876ca806a5b1c60d8d88f93526\n",
      "Author: David P. Sanders <dpsanders@gmail.com>\n",
      "Date:   Mon Feb 9 08:36:58 2015 -0600\n",
      "\n",
      "    Varios cambios menores a 02-git\n",
      "\n",
      "commit bbb844fd652dbe35abefa090d915862be1c7ffe7\n",
      "Author: Luis Benet <benet@fis.unam.mx>\n",
      "Date:   Sun Feb 8 14:09:10 2015 -0600\n",
      "\n",
      "    Include contents and bibliography of the curse in README.md\n",
      "\n",
      "commit f02fabaf7ec4594541292591dda0d3c1513ac684\n",
      "Author: Luis Benet <benet@fis.unam.mx>\n",
      "Date:   Sun Feb 8 10:28:24 2015 -0600\n",
      "\n",
      "    Add 02-git.ipynb\n",
      "    \n",
      "    Contains the 2nd part to the intro to git, including basic things\n",
      "    of colaboration and solving conflicts.\n",
      "\n",
      "commit 461b0af89b6d0e3d5e37ad170b5e294ff9e0d4df\n",
      "Author: Luis Benet <benet@fis.unam.mx>\n",
      "Date:   Sun Feb 8 10:27:11 2015 -0600\n",
      "\n",
      "    Add 01-git.ipynb, with additions from David\n",
      "\n",
      "commit d8a5e75a84fb40538a62680509a1629a039fcfb9\n",
      "Author: Luis Benet <benet@fis.unam.mx>\n",
      "Date:   Sun Feb 8 10:13:50 2015 -0600\n",
      "\n",
      "    Add .gitignore and initial README.md\n",
      "\n",
      "commit 5c78aa4ad9c80f5310b50f9a8f56f7e69fcbec7e\n",
      "Author: Luis Benet <lbenet@users.noreply.github.com>\n",
      "Date:   Sun Feb 8 09:59:05 2015 -0600\n",
      "\n",
      "    Initial commit\n"
     ]
    },
    {
     "name": "stderr",
     "output_type": "stream",
     "text": [
      "To /mnt/homes/home/david/Desktop/original.git\n",
      "   50bd4c3..335b6e2  master -> master\n"
     ]
    }
   ],
   "source": [
    ";git add . && git commit -m\"Nueva idea\" && git push && git log"
   ]
  },
  {
   "cell_type": "markdown",
   "metadata": {
    "hidden": true
   },
   "source": [
    "Ahora, veamos que es lo que Alice ve. "
   ]
  },
  {
   "cell_type": "code",
   "execution_count": 83,
   "metadata": {
    "collapsed": false,
    "hidden": true
   },
   "outputs": [
    {
     "name": "stdout",
     "output_type": "stream",
     "text": [
      "/mnt/homes/home/david/Desktop/alice\n"
     ]
    }
   ],
   "source": [
    ";cd ../alice"
   ]
  },
  {
   "cell_type": "code",
   "execution_count": 84,
   "metadata": {
    "collapsed": false,
    "hidden": true
   },
   "outputs": [
    {
     "name": "stderr",
     "output_type": "stream",
     "text": [
      "From /mnt/homes/home/david/Desktop/original\n",
      "   335123b..335b6e2  master     -> origin/master\n"
     ]
    },
    {
     "name": "stdout",
     "output_type": "stream",
     "text": [
      "Auto-merging inicio.txt\n",
      "CONFLICT (content): Merge conflict in inicio.txt\n",
      "Auto-merging .gitignore\n",
      "CONFLICT (content): Merge conflict in .gitignore\n",
      "Automatic merge failed; fix conflicts and then commit the result.\n"
     ]
    }
   ],
   "source": [
    ";git pull"
   ]
  },
  {
   "cell_type": "code",
   "execution_count": 85,
   "metadata": {
    "collapsed": false,
    "hidden": true
   },
   "outputs": [
    {
     "name": "stdout",
     "output_type": "stream",
     "text": [
      "algo.tmp\n",
      "arreglo_bug1.txt\n",
      "clases\n",
      "idea_bob.txt\n",
      "inicio.txt\n",
      "LICENSE.md\n",
      "notebooks\n",
      "README.md\n",
      "tareas\n"
     ]
    }
   ],
   "source": [
    ";ls"
   ]
  },
  {
   "cell_type": "markdown",
   "metadata": {
    "hidden": true
   },
   "source": [
    "Efectivamente, ahora Alice tiene la nueva idea de Bob "
   ]
  },
  {
   "cell_type": "markdown",
   "metadata": {
    "hidden": true
   },
   "source": [
    "### Alice y Bob hacen cambios en archivos diferentes"
   ]
  },
  {
   "cell_type": "markdown",
   "metadata": {
    "hidden": true
   },
   "source": [
    "Vamos a hacer un cambio en un archivo de Alice, y a enviarlo al repositorio. \n",
    "\n",
    "Posteriormente intentaremos hacer lo mismo con Bob."
   ]
  },
  {
   "cell_type": "code",
   "execution_count": 86,
   "metadata": {
    "collapsed": false,
    "hidden": true
   },
   "outputs": [
    {
     "name": "stdout",
     "output_type": "stream",
     "text": [
      "[master dc022e9] Se anade la fecha\n"
     ]
    },
    {
     "name": "stderr",
     "output_type": "stream",
     "text": [
      "To /mnt/homes/home/david/Desktop/original.git\n",
      "   335b6e2..dc022e9  master -> master\n"
     ]
    }
   ],
   "source": [
    ";date >> inicio.txt && git add . && git commit -m\"Se anade la fecha\" && git push"
   ]
  },
  {
   "cell_type": "code",
   "execution_count": 87,
   "metadata": {
    "collapsed": false,
    "hidden": true
   },
   "outputs": [
    {
     "name": "stdout",
     "output_type": "stream",
     "text": [
      "/mnt/homes/home/david/Desktop/bob\n"
     ]
    }
   ],
   "source": [
    ";cd ../bob"
   ]
  },
  {
   "cell_type": "code",
   "execution_count": 88,
   "metadata": {
    "collapsed": false,
    "hidden": true
   },
   "outputs": [
    {
     "name": "stdout",
     "output_type": "stream",
     "text": [
      "[master 5f0035a] Se anade otra fecha\n",
      " 1 file changed, 1 insertion(+)\n"
     ]
    },
    {
     "name": "stderr",
     "output_type": "stream",
     "text": [
      "To /mnt/homes/home/david/Desktop/original.git\n",
      " ! [rejected]        master -> master (fetch first)\n",
      "error: failed to push some refs to '/mnt/homes/home/david/Desktop/original.git'\n",
      "hint: Updates were rejected because the remote contains work that you do\n",
      "hint: not have locally. This is usually caused by another repository pushing\n",
      "hint: to the same ref. You may want to first integrate the remote changes\n",
      "hint: (e.g., 'git pull ...') before pushing again.\n",
      "hint: See the 'Note about fast-forwards' in 'git push --help' for details.\n"
     ]
    }
   ],
   "source": [
    ";date >> idea_bob.txt && git add . && git commit -m\"Se anade otra fecha\" && git push"
   ]
  },
  {
   "cell_type": "markdown",
   "metadata": {
    "hidden": true
   },
   "source": [
    "Tenemos un problema. El cambio qeu queremos hacer ha sido rechazado [rejected]\n",
    "\n",
    "De hecho, `git` nos está diciendo como resolver el problema. Debemos traer los cambios a nuestro repositorio mediante un `pull`."
   ]
  },
  {
   "cell_type": "code",
   "execution_count": null,
   "metadata": {
    "collapsed": true,
    "hidden": true
   },
   "outputs": [],
   "source": []
  },
  {
   "cell_type": "code",
   "execution_count": 89,
   "metadata": {
    "collapsed": false,
    "hidden": true
   },
   "outputs": [
    {
     "name": "stdout",
     "output_type": "stream",
     "text": [
      "Merge made by the 'recursive' strategy.\n",
      " .gitignore | 4 ++++\n",
      " inicio.txt | 6 ++++++\n",
      " 2 files changed, 10 insertions(+)\n"
     ]
    },
    {
     "name": "stderr",
     "output_type": "stream",
     "text": [
      "From /mnt/homes/home/david/Desktop/original\n",
      "   335b6e2..dc022e9  master     -> origin/master\n"
     ]
    }
   ],
   "source": [
    ";git pull"
   ]
  },
  {
   "cell_type": "markdown",
   "metadata": {
    "hidden": true
   },
   "source": [
    "y automaticamente se hace un \"merge\" que combina los cambios de las dos partes.\n",
    "\n",
    "Sin embargo, debemos hacer push para que los cambios, que se hicieron a nivel del repositorio de Bob, queden en el repositorio central. Similarmente, actualizamos a alice."
   ]
  },
  {
   "cell_type": "code",
   "execution_count": 90,
   "metadata": {
    "collapsed": false,
    "hidden": true
   },
   "outputs": [
    {
     "name": "stderr",
     "output_type": "stream",
     "text": [
      "To /mnt/homes/home/david/Desktop/original.git\n",
      "   dc022e9..42291f8  master -> master\n"
     ]
    }
   ],
   "source": [
    ";git push"
   ]
  },
  {
   "cell_type": "code",
   "execution_count": 91,
   "metadata": {
    "collapsed": false,
    "hidden": true
   },
   "outputs": [
    {
     "name": "stdout",
     "output_type": "stream",
     "text": [
      "/mnt/homes/home/david/Desktop/alice\n"
     ]
    }
   ],
   "source": [
    ";cd ../alice"
   ]
  },
  {
   "cell_type": "code",
   "execution_count": 92,
   "metadata": {
    "collapsed": false,
    "hidden": true
   },
   "outputs": [
    {
     "name": "stdout",
     "output_type": "stream",
     "text": [
      "Updating dc022e9..42291f8\n",
      "Fast-forward\n",
      " idea_bob.txt | 1 +\n",
      " 1 file changed, 1 insertion(+)\n"
     ]
    },
    {
     "name": "stderr",
     "output_type": "stream",
     "text": [
      "From /mnt/homes/home/david/Desktop/original\n",
      "   dc022e9..42291f8  master     -> origin/master\n"
     ]
    }
   ],
   "source": [
    ";git pull"
   ]
  },
  {
   "cell_type": "code",
   "execution_count": 93,
   "metadata": {
    "collapsed": false,
    "hidden": true
   },
   "outputs": [
    {
     "name": "stdout",
     "output_type": "stream",
     "text": [
      "*   commit 42291f8c4311f31c024e8f0619309b80856617af\n",
      "|\\  Merge: 5f0035a dc022e9\n",
      "| | Author: Bob <davidwarro@gmail.com>\n",
      "| | Date:   Tue Feb 21 14:58:17 2017 -0600\n",
      "| | \n",
      "| |     Merge branch 'master' of /mnt/homes/home/david/Desktop/original\n",
      "| |     \n",
      "| *   commit dc022e92f65d03f4dc36994b321da7755de31981\n",
      "| |\\  Merge: 9bc8379 335b6e2\n",
      "| | | Author: davidphysdavalos <davidwarro@gmail.com>\n",
      "| | | Date:   Tue Feb 21 14:58:17 2017 -0600\n",
      "| | | \n",
      "| | |     Se anade la fecha\n",
      "| | |    \n",
      "| * | commit 9bc83797bbea512108efd3420e2c888c1c239762\n",
      "| | | Author: davidphysdavalos <davidwarro@gmail.com>\n",
      "| | | Date:   Tue Feb 21 14:58:17 2017 -0600\n",
      "| | | \n",
      "| | |     Se mejora el gitignore y se anade mas informcion a inicio.txt\n",
      "| | |    \n",
      "| * | commit a14fb2a717700566ad5ff74357edda0eac6b4730\n",
      "| | | Author: davidphysdavalos <davidwarro@gmail.com>\n",
      "| | | Date:   Tue Feb 21 14:58:17 2017 -0600\n",
      "| | | \n",
      "| | |     Commit inicial\n",
      "| | |    \n",
      "* | | commit 5f0035ac881ce137951b1e5c49573ce6f0cea037\n",
      "| |/  Author: Bob <davidwarro@gmail.com>\n",
      "|/|   Date:   Tue Feb 21 14:58:17 2017 -0600\n",
      "| |   \n",
      "| |       Se anade otra fecha\n",
      "| |     \n",
      "* |   commit 335b6e284229a54ad0df71451a935bb60f7ea31b\n",
      "|\\ \\  Merge: 50bd4c3 b03a8bf\n",
      "| | | Author: Bob <davidwarro@gmail.com>\n",
      "| | | Date:   Tue Feb 21 14:58:17 2017 -0600\n",
      "| | | \n",
      "| | |     Nueva idea\n",
      "| | |      \n",
      "| * |   commit b03a8bff9d57ca41f0d90b68f18f975e5a7f937a\n",
      "| |\\ \\  Merge: 5fc848e 57ed975\n",
      "| | | | Author: David P. Sanders <dpsanders@gmail.com>\n",
      "| | | | Date:   Tue Apr 28 10:16:54 2015 -0500\n",
      "| | | | \n",
      "| | | |     Merge pull request #33 from dpsanders/master\n",
      "| | | |     \n",
      "| | | |     Notebook sobre intervalos multi-dimensionales\n",
      "| | | |     \n",
      "| | * | commit 57ed97526afa7f922a43a34dfdc2509274431034\n",
      "| | | | Author: David P. Sanders <dpsanders@gmail.com>\n",
      "| | | | Date:   Tue Apr 28 10:16:37 2015 -0500\n",
      "| | | | \n",
      "| | | |     Agregué notebook 11, intervalos multi-dimensionales\n",
      "| | | |       \n",
      "| * | |   commit 5fc848ea77a09a1a61a6c4c75e4f32f2cb415cf1\n",
      "| |\\ \\ \\  Merge: dcd2fdb 5c2430c\n",
      "| | |/ /  Author: David P. Sanders <dpsanders@gmail.com>\n",
      "| | | |   Date:   Mon Apr 27 11:39:18 2015 -0500\n",
      "| | | |   \n",
      "| | | |       Merge pull request #32 from dpsanders/master\n",
      "| | | |       \n",
      "| | | |       Agregar liga al libro de Moore\n",
      "| | | |     \n",
      "| | * | commit 5c2430cf7042bff4bfc0f864bddfd2310b8a5505\n",
      "| | | | Author: David P. Sanders <dpsanders@gmail.com>\n",
      "| | | | Date:   Mon Apr 27 11:38:50 2015 -0500\n",
      "| | | | \n",
      "| | | |     Agregué liga al libro de Moore\n",
      "| | | |       \n",
      "| * | |   commit dcd2fdba1bb1fb62fa862a65555c7d8fdbb6402a\n",
      "| |\\ \\ \\  Merge: 4d79769 6eade8b\n",
      "| | |/ /  Author: David P. Sanders <dpsanders@gmail.com>\n",
      "| | | |   Date:   Mon Apr 27 10:47:03 2015 -0500\n",
      "| | | |   \n",
      "| | | |       Merge pull request #31 from dpsanders/master\n",
      "| | | |       \n",
      "| | | |       Actualización de proyectos finales\n",
      "| | | |     \n",
      "| | * | commit 6eade8b5ec3742313a2583fc41e20b990087debc\n",
      "| | | | Author: David P. Sanders <dpsanders@gmail.com>\n",
      "| | | | Date:   Mon Apr 27 10:46:38 2015 -0500\n",
      "| | | | \n",
      "| | | |     Agregué liga al artículo de Rump en el notebook de proyectos\n",
      "| | | |       \n",
      "| * | |   commit 4d79769cc83c5caf91b971fe2b222a55cedcf484\n",
      "| |\\ \\ \\  Merge: 5167f53 1666242\n",
      "| | |/ /  Author: David P. Sanders <dpsanders@gmail.com>\n",
      "| | | |   Date:   Mon Apr 27 10:41:43 2015 -0500\n",
      "| | | |   \n",
      "| | | |       Merge pull request #30 from dpsanders/master\n",
      "| | | |       \n",
      "| | | |       Proyectos finales\n",
      "| | | |     \n",
      "| | * | commit 16662421ec924f5f835ac65d073d1b775721430c\n",
      "| |/ /  Author: David P. Sanders <dpsanders@gmail.com>\n",
      "| | |   Date:   Mon Apr 27 10:41:19 2015 -0500\n",
      "| | |   \n",
      "| | |       Agregué notebook con info sobre proyectos finales\n",
      "| | |      \n",
      "| * |   commit 5167f536d4e308f707f237c79a2d2ca3f86f2bb9\n",
      "| |\\ \\  Merge: df8069e 354789e\n",
      "| | | | Author: David P. Sanders <dpsanders@gmail.com>\n",
      "| | | | Date:   Tue Apr 21 10:21:27 2015 -0500\n",
      "| | | | \n",
      "| | | |     Merge pull request #29 from dpsanders/master\n",
      "| | | |     \n",
      "| | | |     Actualización del notebook 10\n",
      "| | | |     \n",
      "| | * | commit 354789e9e006f96e900274d262e0bcf6c5b3672e\n",
      "| | | | Author: David P. Sanders <dpsanders@gmail.com>\n",
      "| | | | Date:   Tue Apr 21 10:08:56 2015 -0500\n",
      "| | | | \n",
      "| | | |     Agregué comentario sobre Newton para intervalos al 10\n",
      "| | | |     \n",
      "| | * | commit 5ff642061dac6b5a6bc2eb0daa0341196feeda97\n",
      "| | | | Author: David P. Sanders <dpsanders@gmail.com>\n",
      "| | | | Date:   Tue Apr 21 10:06:56 2015 -0500\n",
      "| | | | \n",
      "| | | |     Agregué división extendida al notebook 10\n",
      "| | | |     \n",
      "| | * | commit da1ba208108cb1e969491d219627c65fd7f5804e\n",
      "| |/ /  Author: David P. Sanders <dpsanders@gmail.com>\n",
      "| | |   Date:   Mon Apr 20 10:26:47 2015 -0500\n",
      "| | |   \n",
      "| | |       Removí acentos del nombre de los notebooks 9 y 10 y agregué detalles al 10\n",
      "| | |      \n",
      "| * |   commit df8069e8a887b6d586ba601b396e738edd88d90b\n",
      "| |\\ \\  Merge: 3bd3b0d 021529f\n",
      "| | | | Author: Luis Benet <lbenet@users.noreply.github.com>\n",
      "| | | | Date:   Mon Apr 20 07:35:17 2015 -0500\n",
      "| | | | \n",
      "| | | |     Merge pull request #28 from lbenet/lbenet\n",
      "| | | |     \n",
      "| | | |     Agregué el notebook 10 con el método de Newton para intervalos\n",
      "| | | |     \n",
      "| | * | commit 021529f08205b081c43ef0e5a0d2ca2377c049e7\n",
      "| |/ /  Author: Luis Benet <benet@fis.unam.mx>\n",
      "| | |   Date:   Mon Apr 20 07:32:56 2015 -0500\n",
      "| | |   \n",
      "| | |       Agregué el notebook 10 con el método de Newton para intervalos\n",
      "| | |    \n",
      "| * | commit 3bd3b0d135a5efd27111fcf6eec5fa6d6ea5ac5e\n",
      "| | | Author: Luis Benet <lbenet@users.noreply.github.com>\n",
      "| | | Date:   Tue Apr 14 10:22:02 2015 -0500\n",
      "| | | \n",
      "| | |     Update 09. El método de Newton.ipynb\n",
      "| | |     \n",
      "| | |     Corrección de una errata\n",
      "| | |      \n",
      "| * |   commit d85f9f6de1dec8580a8b2a82c5636d83ef9b6847\n",
      "| |\\ \\  Merge: 7d7aa06 657ad1c\n",
      "| | | | Author: David P. Sanders <dpsanders@gmail.com>\n",
      "| | | | Date:   Mon Apr 13 09:26:42 2015 -0500\n",
      "| | | | \n",
      "| | | |     Merge pull request #27 from dpsanders/master\n",
      "| | | |     \n",
      "| | | |     Notebook 09\n",
      "| | | |     \n",
      "| | * | commit 657ad1cf43d6605fa5cfe888a59bf7d2bd499185\n",
      "| | | | Author: David P. Sanders <dpsanders@gmail.com>\n",
      "| | | | Date:   Mon Apr 13 09:26:19 2015 -0500\n",
      "| | | | \n",
      "| | | |     Agregué notebook 09, método de Newton usual\n",
      "| | | |       \n",
      "| * | |   commit 7d7aa067886de78c7f93ef62d513ed77672eb51e\n",
      "| |\\ \\ \\  Merge: 7949a93 2d8a87a\n",
      "| | |/ /  Author: David P. Sanders <dpsanders@gmail.com>\n",
      "| | | |   Date:   Mon Apr 6 10:06:57 2015 -0500\n",
      "| | | |   \n",
      "| | | |       Merge pull request #26 from dpsanders/master\n",
      "| | | |       \n",
      "| | | |       Agregué al notebook 08 cómo hacer una rutina para encontrar raíces de una función\n",
      "| | | |     \n",
      "| | * | commit 2d8a87aa24f287a0cf075a8cdf083e19d4ef7aad\n",
      "| |/ /  Author: David P. Sanders <dpsanders@gmail.com>\n",
      "| | |   Date:   Mon Apr 6 10:00:29 2015 -0500\n",
      "| | |   \n",
      "| | |       Agregué al notebook 08 cómo hacer una rutina para encontrar raíces de una función\n",
      "| | |      \n",
      "| * |   commit 7949a9312ca4cff9edf7c6b8a9cbffa400cd7a77\n",
      "| |\\ \\  Merge: cc881f3 e300eb6\n",
      "| | | | Author: David P. Sanders <dpsanders@gmail.com>\n",
      "| | | | Date:   Mon Apr 6 09:37:44 2015 -0500\n",
      "| | | | \n",
      "| | | |     Merge pull request #25 from lbenet/lbenet\n",
      "| | | |     \n",
      "| | | |     Agregué una primera parte del notebook 8\n",
      "| | | |     \n",
      "| | * | commit e300eb63e0501a98af02258d789b5698bac051d6\n",
      "| |/ /  Author: Luis Benet <benet@fis.unam.mx>\n",
      "| | |   Date:   Mon Apr 6 08:00:41 2015 -0500\n",
      "| | |   \n",
      "| | |       Agregué una primera parte del notebook 8\n",
      "| | |       \n",
      "| | |       Tiene 4 ejercicios que involucran la extensión de intervalos\n",
      "| | |       a las funciones estándares.\n",
      "| | |      \n",
      "| * |   commit cc881f3fef51b0e473e7a42c2410a837b8e363f4\n",
      "| |\\ \\  Merge: d02c9a5 cda9f80\n",
      "| | | | Author: David P. Sanders <dpsanders@gmail.com>\n",
      "| | | | Date:   Mon Mar 23 09:23:14 2015 -0600\n",
      "| | | | \n",
      "| | | |     Merge pull request #24 from dpsanders/master\n",
      "| | | |     \n",
      "| | | |     Modificaciones menores al notebook 07\n",
      "| | | |     \n",
      "| | * | commit cda9f8070c0f596c06c8efb515fb3fed8bc48908\n",
      "| | | | Author: David P. Sanders <dpsanders@gmail.com>\n",
      "| | | | Date:   Mon Mar 23 09:22:39 2015 -0600\n",
      "| | | | \n",
      "| | | |     Modificaciones menores al notebook 07 para ser más explícito\n",
      "| | | |       \n",
      "| * | |   commit d02c9a5f07d1e62375b312d837562502c5dd1e28\n",
      "| |\\ \\ \\  Merge: df986c5 60b5bdd\n",
      "| | |/ /  Author: David P. Sanders <dpsanders@gmail.com>\n",
      "| | | |   Date:   Wed Mar 18 10:37:40 2015 -0600\n",
      "| | | |   \n",
      "| | | |       Merge pull request #23 from dpsanders/master\n",
      "| | | |       \n",
      "| | | |       Agregué el notebook que hice en la clase del 17 de marzo sobre tipos compósitos.\n",
      "| | | |     \n",
      "| | * | commit 60b5bdd94d048b4c3d88ac8c0bc51d63615c7c84\n",
      "| | | | Author: David P. Sanders <dpsanders@gmail.com>\n",
      "| | | | Date:   Tue Mar 17 12:47:27 2015 -0600\n",
      "| | | | \n",
      "| | | |     Agregué explicación de tipos que hicimos en clase 03-17\n",
      "| | | |       \n",
      "| * | |   commit df986c5ac4e67ecb6a06b6ae400861efe381b141\n",
      "| |\\ \\ \\  Merge: c357560 da723c4\n",
      "| | |/ /  Author: David P. Sanders <dpsanders@gmail.com>\n",
      "| | | |   Date:   Tue Mar 17 10:22:19 2015 -0600\n",
      "| | | |   \n",
      "| | | |       Merge pull request #22 from dpsanders/master\n",
      "| | | |       \n",
      "| | | |       Agregué notebook 07, aritmética de intervalos\n",
      "| | | |     \n",
      "| | * | commit da723c4f51c0a3e06b7c23b3998074597c985fe9\n",
      "| | | | Author: David P. Sanders <dpsanders@gmail.com>\n",
      "| | | | Date:   Tue Mar 17 10:22:03 2015 -0600\n",
      "| | | | \n",
      "| | | |     Agregué que testeen el código de alguien más al notebook 07\n",
      "| | | |     \n",
      "| | * | commit f6242714c06c092de1e35b3baaba3837be063db9\n",
      "| |/ /  Author: David P. Sanders <dpsanders@gmail.com>\n",
      "| | |   Date:   Tue Mar 17 08:55:59 2015 -0600\n",
      "| | |   \n",
      "| | |       Agregué notebook 07, aritmética de intervalos\n",
      "| | |      \n",
      "| * |   commit c357560499fb1abf34c8b6fa8deceb7544261b63\n",
      "| |\\ \\  Merge: f915944 9ecf2e1\n",
      "| | | | Author: Luis Benet <lbenet@users.noreply.github.com>\n",
      "| | | | Date:   Tue Mar 10 10:55:09 2015 -0600\n",
      "| | | | \n",
      "| | | |     Merge pull request #21 from lbenet/lbenet\n",
      "| | | |     \n",
      "| | | |     Agregué una propiedad más en el ejercicio 6\n",
      "| | | |     \n",
      "| | * | commit 9ecf2e10a0e134f03831b5d55afe1b1003ba5854\n",
      "| |/ /  Author: Luis Benet <benet@fis.unam.mx>\n",
      "| | |   Date:   Tue Mar 10 10:54:04 2015 -0600\n",
      "| | |   \n",
      "| | |       Agregué una propiedad más en el ejercicio 6\n",
      "| | |      \n",
      "| * |   commit f915944f481c68585db07a57100e6c7ad2a86306\n",
      "| |\\ \\  Merge: 4eea8af c057514\n",
      "| | | | Author: David P. Sanders <dpsanders@gmail.com>\n",
      "| | | | Date:   Mon Mar 9 10:11:27 2015 -0600\n",
      "| | | | \n",
      "| | | |     Merge pull request #20 from dpsanders/master\n",
      "| | | |     \n",
      "| | | |     Update 06\n",
      "| | | |     \n",
      "| | * | commit c05751484359a4c725e141e29aec4e0b105ccc84\n",
      "| | | | Author: David P. Sanders <dpsanders@gmail.com>\n",
      "| | | | Date:   Mon Mar 9 10:10:39 2015 -0600\n",
      "| | | | \n",
      "| | | |     Reagregué la versión correcta de 06\n",
      "| | | |     \n",
      "| | * | commit 7057378011abffb3a6c6642f35c93aa75bf37803\n",
      "| | | | Author: David P. Sanders <dpsanders@gmail.com>\n",
      "| | | | Date:   Mon Mar 9 10:10:13 2015 -0600\n",
      "| | | | \n",
      "| | | |     Removí 06 ya que hay algún problema de desincronización entre versiones\n",
      "| | | |     \n",
      "| | * | commit c27dedb90ad7a6d24c39c82ee8bb8263bdb85bc8\n",
      "| | | | Author: David P. Sanders <dpsanders@gmail.com>\n",
      "| | | | Date:   Mon Mar 9 10:08:57 2015 -0600\n",
      "| | | | \n",
      "| | | |     Updated 06\n",
      "| | | |       \n",
      "| * | |   commit 4eea8af3e20521d6be2a691e4f056c30cdf07e75\n",
      "| |\\ \\ \\  Merge: 043d71d 69235ad\n",
      "| | |/ /  Author: David P. Sanders <dpsanders@gmail.com>\n",
      "| | | |   Date:   Mon Mar 9 10:04:00 2015 -0600\n",
      "| | | |   \n",
      "| | | |       Merge pull request #19 from dpsanders/master\n",
      "| | | |       \n",
      "| | | |       Agregué los cambios de Luis a mi versión\n",
      "| | | |     \n",
      "| | * | commit 69235ad13422e3856fc4197e88f0e7b5164add76\n",
      "| | | | Author: David P. Sanders <dpsanders@gmail.com>\n",
      "| | | | Date:   Mon Mar 9 10:02:56 2015 -0600\n",
      "| | | | \n",
      "| | | |     Agregué los cambios de Luis a mi versión\n",
      "| | | |       \n",
      "| * | |   commit 043d71d066033e5a1a4e6b4514930f238517f871\n",
      "| |\\ \\ \\  Merge: 65c8ba0 645d49f\n",
      "| | |/ /  Author: David P. Sanders <dpsanders@gmail.com>\n",
      "| | | |   Date:   Mon Mar 9 09:52:51 2015 -0600\n",
      "| | | |   \n",
      "| | | |       Merge pull request #17 from dpsanders/master\n",
      "| | | |       \n",
      "| | | |       Agregué anotación de tipos y un ejercicio sobre intervalos al notebook 06, tipos compósitos\n",
      "| | | |       \n",
      "| | * |   commit 645d49f3f1ac60dceb8c662d3e9d37d12db7cf6f\n",
      "| | |\\ \\  Merge: 1fed7cc 65c8ba0\n",
      "| | |/ /  Author: David P. Sanders <dpsanders@gmail.com>\n",
      "| |/| |   Date:   Mon Mar 9 09:52:39 2015 -0600\n",
      "| | | |   \n",
      "| | | |       Merged but chose my version of 06\n",
      "| | | |       \n",
      "| * | |   commit 65c8ba02fde2e89a049d4863f9981062ca9b0201\n",
      "| |\\ \\ \\  Merge: 047deea 9306216\n",
      "| | | | | Author: David P. Sanders <dpsanders@gmail.com>\n",
      "| | | | | Date:   Mon Mar 9 09:48:44 2015 -0600\n",
      "| | | | | \n",
      "| | | | |     Merge pull request #16 from lbenet/lbenet\n",
      "| | | | |     \n",
      "| | | | |     Agregué en la descripción de las propiedades qué pasa con las potencias.\n",
      "| | | | |      \n",
      "| | * | | commit 93062165c74f2e49732272291525acca205ffda7\n",
      "| | | | | Author: Luis Benet <benet@fis.unam.mx>\n",
      "| | | | | Date:   Mon Mar 2 15:31:43 2015 -0600\n",
      "| | | | | \n",
      "| | | | |     Incluí otro inciso en el último problema de este notebook\n",
      "| | | | |      \n",
      "| | | * | commit 1fed7ccfddc673186d187fc834cb943424641750\n",
      "| | |/ /  Author: David P. Sanders <dpsanders@gmail.com>\n",
      "| |/| |   Date:   Mon Mar 9 09:31:25 2015 -0600\n",
      "| | | |   \n",
      "| | | |       Agregué anotación de tipos y un ejercicio sobre intervalos al notebook 06, tipos compósitos\n",
      "| | | |       \n",
      "| * | |   commit 047deeadc6ff295f3cf7873df7fd89c9a87321f1\n",
      "| |\\ \\ \\  Merge: b9bb36e 9cf2b40\n",
      "| | |/ /  Author: Luis Benet <lbenet@users.noreply.github.com>\n",
      "| | | |   Date:   Mon Mar 2 15:21:31 2015 -0600\n",
      "| | | |   \n",
      "| | | |       Merge pull request #15 from lbenet/lbenet\n",
      "| | | |       \n",
      "| | | |       Agregué un nuevo problema: suma infinita de 1/n\n",
      "| | | |     \n",
      "| | * | commit 9cf2b40c61ba2999d306b4b9c2a32b9b0aa791cd\n",
      "| | | | Author: Luis Benet <benet@fis.unam.mx>\n",
      "| | | | Date:   Mon Mar 2 15:20:16 2015 -0600\n",
      "| | | | \n",
      "| | | |     Agregué otro problema al notebook 6\n",
      "| | | |     \n",
      "| | * | commit 0c119ca9b46496cb910111d18bdfbf2474b5197f\n",
      "| | | | Author: Luis Benet <benet@fis.unam.mx>\n",
      "| | | | Date:   Mon Mar 2 11:33:53 2015 -0600\n",
      "| | | | \n",
      "| | | |     Notebook con discusiones en la clase sobre redondeo\n",
      "| | | |     \n",
      "| | * | commit f652d1e0d8e12df8d9b1d252d8efe90dd5ddf4de\n",
      "| |/ /  Author: Luis Benet <benet@fis.unam.mx>\n",
      "| | |   Date:   Mon Mar 2 10:47:14 2015 -0600\n",
      "| | |   \n",
      "| | |       Agregué un nuevo problema: suma infinita de 1/n\n",
      "| | |      \n",
      "| * |   commit b9bb36e099f329f8f3e331fa745c3d8cdc193d26\n",
      "| |\\ \\  Merge: c863ba5 c302323\n",
      "| | | | Author: Luis Benet <lbenet@users.noreply.github.com>\n",
      "| | | | Date:   Mon Mar 2 10:41:28 2015 -0600\n",
      "| | | | \n",
      "| | | |     Merge pull request #14 from lbenet/lbenet\n",
      "| | | |     \n",
      "| | | |     Agregué un nuevo problema, donde implementan la suma de maneras distinta...\n",
      "| | | |     \n",
      "| | * | commit c3023234265ada3e2cecbd2d85119b723937ad00\n",
      "| |/ /  Author: Luis Benet <benet@fis.unam.mx>\n",
      "| | |   Date:   Mon Mar 2 10:25:58 2015 -0600\n",
      "| | |   \n",
      "| | |       Agregué un nuevo problema, donde implementan la suma de maneras distintas y comparan resultados\n",
      "| | |      \n",
      "| * |   commit c863ba5f17a34e9e661e897e9d218b58f558466a\n",
      "| |\\ \\  Merge: 684daec 02171fc\n",
      "| | | | Author: Luis Benet <lbenet@users.noreply.github.com>\n",
      "| | | | Date:   Mon Mar 2 09:12:44 2015 -0600\n",
      "| | | | \n",
      "| | | |     Merge pull request #13 from dpsanders/master\n",
      "| | | |     \n",
      "| | | |     Agregué calculo de suma infinita al notebook 5, redondeo (en la versión del notebook de IPython 3)\n",
      "| | | |     \n",
      "| | * | commit 02171fcd10e0ceeb71d3051f57cbace28e4d3a15\n",
      "| | | | Author: David P. Sanders <dpsanders@gmail.com>\n",
      "| | | | Date:   Mon Mar 2 08:45:32 2015 -0600\n",
      "| | | | \n",
      "| | | |     Versión del notebook 05 redondeo para IPython 2 con suma infinita\n",
      "| | | |     \n",
      "| | * | commit b746427a2be66d19303fe90d2d87e537804759ed\n",
      "| |/ /  Author: David P. Sanders <dpsanders@gmail.com>\n",
      "| | |   Date:   Mon Mar 2 08:38:12 2015 -0600\n",
      "| | |   \n",
      "| | |       Agregué calculo de suma infinita al notebook 5, redondeo\n",
      "| | |      \n",
      "| * |   commit 684daec84e5ad141c318106a7a437e2f55ddee5a\n",
      "| |\\ \\  Merge: a448fbb b8a6369\n",
      "| | | | Author: Luis Benet <lbenet@users.noreply.github.com>\n",
      "| | | | Date:   Sun Mar 1 15:38:04 2015 -0600\n",
      "| | | | \n",
      "| | | |     Merge pull request #12 from lbenet/lbenet\n",
      "| | | |     \n",
      "| | | |     Adiciones al notebook 05\n",
      "| | | |     \n",
      "| | * | commit b8a6369a01faf9066e24113914340916ef17b8eb\n",
      "| | | | Author: Luis Benet <benet@fis.unam.mx>\n",
      "| | | | Date:   Tue Feb 24 15:05:27 2015 -0600\n",
      "| | | | \n",
      "| | | |     Adiciones al notebook 05\n",
      "| | | |     \n",
      "| * | | commit a448fbb2addb4b5fb6860c4eb9464881588529cd\n",
      "| |/ /  Author: Luis Benet <lbenet@users.noreply.github.com>\n",
      "| | |   Date:   Tue Feb 24 11:31:39 2015 -0600\n",
      "| | |   \n",
      "| | |       Update 04. Numeros de punto flotante.ipynb\n",
      "| | |      \n",
      "| * |   commit 038545df5fa3491b611f27cea0c56eede02101ca\n",
      "| |\\ \\  Merge: 9916154 2406598\n",
      "| | | | Author: Luis Benet <lbenet@users.noreply.github.com>\n",
      "| | | | Date:   Tue Feb 24 10:37:29 2015 -0600\n",
      "| | | | \n",
      "| | | |     Merge pull request #11 from dpsanders/master\n",
      "| | | |     \n",
      "| | | |     Agregué notebooks 05 redondeo y 06 tipos\n",
      "| | | |     \n",
      "| | * | commit 2406598356ad53272c1ad0df0a25eee26c6b454a\n",
      "| | | | Author: David P. Sanders <dpsanders@gmail.com>\n",
      "| | | | Date:   Tue Feb 24 10:37:11 2015 -0600\n",
      "| | | | \n",
      "| | | |     Otro typo en notebook 4\n",
      "| | | |     \n",
      "| | * | commit 96c69239e225ad39e95cb850506d69ce2c0d8ddd\n",
      "| | | | Author: David P. Sanders <dpsanders@gmail.com>\n",
      "| | | | Date:   Tue Feb 24 10:25:29 2015 -0600\n",
      "| | | | \n",
      "| | | |     Removí notebook 4 viejo. Typo en notebook 4\n",
      "| | | |     \n",
      "| | * | commit 9b9d81665737caadd4b14b5f925eb6d18205cbe2\n",
      "| | | | Author: David P. Sanders <dpsanders@gmail.com>\n",
      "| | | | Date:   Tue Feb 24 09:01:47 2015 -0600\n",
      "| | | | \n",
      "| | | |     Cambié el nombre del notebook 04 para remover redondeo. Agregué 05 redondeo y 06 tipos\n",
      "| | | |     \n",
      "| | * | commit 03b4fcabce5771bd93f08cb72d26a470fcdbae27\n",
      "| |/ /  Author: David P. Sanders <dpsanders@gmail.com>\n",
      "| | |   Date:   Tue Feb 24 08:09:32 2015 -0600\n",
      "| | |   \n",
      "| | |       Typos en notebook 4\n",
      "| | |      \n",
      "| * |   commit 9916154bdde5144d434c514808c6ebcaf8ca9f83\n",
      "| |\\ \\  Merge: 454ebbd 5945ef3\n",
      "| | | | Author: Luis Benet <lbenet@users.noreply.github.com>\n",
      "| | | | Date:   Mon Feb 23 09:09:56 2015 -0600\n",
      "| | | | \n",
      "| | | |     Merge pull request #10 from lbenet/lbenet\n",
      "| | | |     \n",
      "| | | |     Add notebook 04 (first part) and additions in the last class notebook\n",
      "| | | |     \n",
      "| | * | commit 5945ef3b2f39c7dcc5777e892d8e6fe0c1940f2c\n",
      "| | | | Author: Luis Benet <benet@fis.unam.mx>\n",
      "| | | | Date:   Sun Feb 22 23:22:54 2015 -0600\n",
      "| | | | \n",
      "| | | |     Add notebook 04\n",
      "| | | |     \n",
      "| | * | commit 30e73044d67004e05110e14cd6c7b020e4ba8e51\n",
      "| |/ /  Author: Luis Benet <benet@fis.unam.mx>\n",
      "| | |   Date:   Sun Feb 22 23:21:51 2015 -0600\n",
      "| | |   \n",
      "| | |       Últimas adiciones de la clase\n",
      "| | |      \n",
      "| * |   commit 454ebbdc9d9ca022019f6f20d5280a032e884c40\n",
      "| |\\ \\  Merge: 25f9948 0017821\n",
      "| | | | Author: Luis Benet <lbenet@users.noreply.github.com>\n",
      "| | | | Date:   Tue Feb 17 11:32:01 2015 -0600\n",
      "| | | | \n",
      "| | | |     Merge pull request #9 from dpsanders/restructure\n",
      "| | | |     \n",
      "| | | |     Restructure with notebooks moved to their own directory\n",
      "| | | |     \n",
      "| | * | commit 0017821fc364c22c76b22c83d5291296ceae6620\n",
      "| | | | Author: David P. Sanders <dpsanders@gmail.com>\n",
      "| | | | Date:   Tue Feb 17 10:37:34 2015 -0600\n",
      "| | | | \n",
      "| | | |     Put notebooks into notebooks directory. Added clases directory. Added my name to LICENSE\n",
      "| | | |       \n",
      "| * | |   commit 25f9948ceb160f888bddc383f2d605a917ddd3ad\n",
      "| |\\ \\ \\  Merge: 521a5f6 477012b\n",
      "| | | | | Author: Luis Benet <lbenet@users.noreply.github.com>\n",
      "| | | | | Date:   Tue Feb 17 11:31:45 2015 -0600\n",
      "| | | | | \n",
      "| | | | |     Merge pull request #8 from dpsanders/clases\n",
      "| | | | |     \n",
      "| | | | |     Agregué directorio clases\n",
      "| | | | |      \n",
      "| | * | | commit 477012bc3ce0be7b825ebcfae5e78023fefcfd37\n",
      "| | | | | Author: David P. Sanders <dpsanders@gmail.com>\n",
      "| | | | | Date:   Tue Feb 17 11:12:37 2015 -0600\n",
      "| | | | | \n",
      "| | | | |     Agregué notebook de la clase de hoy en directorio clases\n",
      "| | | | |        \n",
      "| * | | |   commit 521a5f66e7934afc7c618dcd6e36ef593658aa43\n",
      "| |\\ \\ \\ \\  Merge: ae8aacd e2e518f\n",
      "| | | | | | Author: Luis Benet <lbenet@users.noreply.github.com>\n",
      "| | | | | | Date:   Tue Feb 17 11:29:53 2015 -0600\n",
      "| | | | | | \n",
      "| | | | | |     Merge pull request #7 from dpsanders/tarea2\n",
      "| | | | | |     \n",
      "| | | | | |     Agregué tarea 2\n",
      "| | | | | |       \n",
      "| | * | | | commit e2e518f0ec5a852a4f956a297f6004aa8ffe5afc\n",
      "| | |/ / /  Author: David P. Sanders <dpsanders@gmail.com>\n",
      "| | | | |   Date:   Tue Feb 17 11:15:48 2015 -0600\n",
      "| | | | |   \n",
      "| | | | |       Modificación minima a tarea 2\n",
      "| | | | |      \n",
      "| | * | | commit 387a56df8502dfb87f441ebf0aab4d9745d72af7\n",
      "| | | | | Author: David P. Sanders <dpsanders@gmail.com>\n",
      "| | | | | Date:   Tue Feb 17 11:11:52 2015 -0600\n",
      "| | | | | \n",
      "| | | | |     Agregúe tarea 2\n",
      "| | | | |        \n",
      "| * | | |   commit ae8aacd93f8ba6d847848d8ea11740de89f2d4d2\n",
      "| |\\ \\ \\ \\  Merge: ebcb8b0 73d9bf2\n",
      "| | |/ / /  Author: Luis Benet <lbenet@users.noreply.github.com>\n",
      "| |/| / /   Date:   Mon Feb 16 09:46:46 2015 -0600\n",
      "| | |/ /    \n",
      "| | | |         Merge pull request #6 from dpsanders/add_fork_instructions\n",
      "| | | |         \n",
      "| | | |         Agregué instrucciones sobre cómo agregar un remoto upstream al notebook 02.\n",
      "| | | |     \n",
      "| | * | commit 73d9bf28f26f77d35178f7620a5160c526ba7594\n",
      "| |/ /  Author: David P. Sanders <dpsanders@gmail.com>\n",
      "| | |   Date:   Mon Feb 16 09:43:16 2015 -0600\n",
      "| | |   \n",
      "| | |       Agregué instrucciones de cómo agregar un remote upstream al notebook 02\n",
      "| | |      \n",
      "| * |   commit ebcb8b05b8b2fb71d58a76c1602d11712d077620\n",
      "| |\\ \\  Merge: 24f59f5 b2c6031\n",
      "| | | | Author: David P. Sanders <dpsanders@gmail.com>\n",
      "| | | | Date:   Mon Feb 16 09:29:34 2015 -0600\n",
      "| | | | \n",
      "| | | |     Merge pull request #3 from lbenet/lbenet\n",
      "| | | |     \n",
      "| | | |     Add instalation instructions for git, iphyton notebook and julia\n",
      "| | | |     \n",
      "| | * | commit b2c6031aac2d99b0e3ba19605641b220f117e921\n",
      "| | | | Author: Luis Benet <benet@fis.unam.mx>\n",
      "| | | | Date:   Tue Feb 10 12:16:01 2015 -0600\n",
      "| | | | \n",
      "| | | |     Add instalation instructions for git, iphyton notebook and julia\n",
      "| | | |       \n",
      "| * | |   commit 24f59f544d331140b2c1fe5ad582fcd5d8c8a05d\n",
      "| |\\ \\ \\  Merge: b8cc56f fb84a7f\n",
      "| | |/ /  Author: Luis Benet <lbenet@users.noreply.github.com>\n",
      "| |/| |   Date:   Mon Feb 16 08:51:19 2015 -0600\n",
      "| | | |   \n",
      "| | | |       Merge pull request #5 from dpsanders/master\n",
      "| | | |       \n",
      "| | | |       Agregué notebook 03.\n",
      "| | | |     \n",
      "| | * | commit fb84a7f731752ac16421c34fc6087e6f5c921390\n",
      "| | | | Author: David P. Sanders <dpsanders@gmail.com>\n",
      "| | | | Date:   Mon Feb 16 08:22:19 2015 -0600\n",
      "| | | | \n",
      "| | | |     Removí la versión del notebook 03 con acentos en el nombre\n",
      "| | | |     \n",
      "| | * | commit cd7ad35cecb1ef8387f822879fe985eb031ee333\n",
      "| | | | Author: David P. Sanders <dpsanders@gmail.com>\n",
      "| | | | Date:   Mon Feb 16 08:21:26 2015 -0600\n",
      "| | | | \n",
      "| | | |     Agregué el notebook 03, representación de números\n",
      "| | | |     \n",
      "| | * | commit 899de1deeaa66af4c16a306a358342e103373cab\n",
      "| | | | Author: David P. Sanders <dpsanders@gmail.com>\n",
      "| | | | Date:   Tue Feb 10 11:12:45 2015 -0600\n",
      "| | | | \n",
      "| | | |     Agregué tarea 1\n",
      "| | | |       \n",
      "| * | |   commit b8cc56f0c6a327a6bceda53872cf600b5e202e6b\n",
      "| |\\ \\ \\  Merge: 1699a17 9bbb8c8\n",
      "| | |/ /  Author: Luis Benet <lbenet@users.noreply.github.com>\n",
      "| | | |   Date:   Mon Feb 9 22:31:28 2015 -0600\n",
      "| | | |   \n",
      "| | | |       Merge pull request #2 from dpsanders/master\n",
      "| | | |       \n",
      "| | | |       Agregué una sección sobre claves SSH a notebook 02\n",
      "| | | |     \n",
      "| | * | commit 9bbb8c84a85cdde048cf9ca7468eff6018765507\n",
      "| |/ /  Author: David P. Sanders <dpsanders@gmail.com>\n",
      "| | |   Date:   Mon Feb 9 10:06:36 2015 -0600\n",
      "| | |   \n",
      "| | |       Agregué una sección sobre claves SSH a notebook 02\n",
      "| | |      \n",
      "| * |   commit 1699a17f34ea08c2754ec5f0b325f56e487cb688\n",
      "| |\\ \\  Merge: bbb844f dc614d5\n",
      "| | | | Author: Luis Benet <lbenet@users.noreply.github.com>\n",
      "| | | | Date:   Mon Feb 9 09:26:38 2015 -0600\n",
      "| | | | \n",
      "| | | |     Merge pull request #1 from dpsanders/master\n",
      "| | | |     \n",
      "| | | |     Modificaciones menores a 02 git, y cambio de nombre de los notebooks.\n",
      "| | | |     \n",
      "| | * | commit dc614d5454d712e16f56f08786484be4242abf4a\n",
      "| | | | Author: David P. Sanders <dpsanders@gmail.com>\n",
      "| | | | Date:   Mon Feb 9 08:41:59 2015 -0600\n",
      "| | | | \n",
      "| | | |     No logré cambiar los nombres. Borrando los notebooks anteriores\n",
      "| | | |     \n",
      "| | * | commit 6973d8199609af3ec59cb63843ee7d83c43e8bb8\n",
      "| | | | Author: David P. Sanders <dpsanders@gmail.com>\n",
      "| | | | Date:   Mon Feb 9 08:38:26 2015 -0600\n",
      "| | | | \n",
      "| | | |     Modifiqué notebook 02 (git avanzado) con varios cambios menores. Cambié los nombres de los notebooks 01 y 02.\n",
      "| | | |     \n",
      "| | * | commit 83956c9c45f6dc876ca806a5b1c60d8d88f93526\n",
      "| |/ /  Author: David P. Sanders <dpsanders@gmail.com>\n",
      "| | |   Date:   Mon Feb 9 08:36:58 2015 -0600\n",
      "| | |   \n",
      "| | |       Varios cambios menores a 02-git\n",
      "| | |    \n",
      "| * | commit bbb844fd652dbe35abefa090d915862be1c7ffe7\n",
      "| | | Author: Luis Benet <benet@fis.unam.mx>\n",
      "| | | Date:   Sun Feb 8 14:09:10 2015 -0600\n",
      "| | | \n",
      "| | |     Include contents and bibliography of the curse in README.md\n",
      "| | |    \n",
      "| * | commit f02fabaf7ec4594541292591dda0d3c1513ac684\n",
      "| | | Author: Luis Benet <benet@fis.unam.mx>\n",
      "| | | Date:   Sun Feb 8 10:28:24 2015 -0600\n",
      "| | | \n",
      "| | |     Add 02-git.ipynb\n",
      "| | |     \n",
      "| | |     Contains the 2nd part to the intro to git, including basic things\n",
      "| | |     of colaboration and solving conflicts.\n",
      "| | |    \n",
      "| * | commit 461b0af89b6d0e3d5e37ad170b5e294ff9e0d4df\n",
      "| | | Author: Luis Benet <benet@fis.unam.mx>\n",
      "| | | Date:   Sun Feb 8 10:27:11 2015 -0600\n",
      "| | | \n",
      "| | |     Add 01-git.ipynb, with additions from David\n",
      "| | |    \n",
      "| * | commit d8a5e75a84fb40538a62680509a1629a039fcfb9\n",
      "| | | Author: Luis Benet <benet@fis.unam.mx>\n",
      "| | | Date:   Sun Feb 8 10:13:50 2015 -0600\n",
      "| | | \n",
      "| | |     Add .gitignore and initial README.md\n",
      "| | |    \n",
      "| * | commit 5c78aa4ad9c80f5310b50f9a8f56f7e69fcbec7e\n",
      "|  /  Author: Luis Benet <lbenet@users.noreply.github.com>\n",
      "| |   Date:   Sun Feb 8 09:59:05 2015 -0600\n",
      "| |   \n",
      "| |       Initial commit\n",
      "| |   \n",
      "* | commit 50bd4c38521e9a69cf1e3f1cb027cddaa8857c52\n",
      "| | Author: Bob <davidwarro@gmail.com>\n",
      "| | Date:   Tue Feb 21 14:57:13 2017 -0600\n",
      "| | \n",
      "| |     Primer intento de correccion\n",
      "| |     \n",
      "* |   commit 985ab4f59f65fc61723652aa73848153786c979d\n",
      "|\\ \\  Merge: decb6e3 335123b\n",
      "| |/  Author: Bob <davidwarro@gmail.com>\n",
      "| |   Date:   Tue Feb 21 14:57:13 2017 -0600\n",
      "| |   \n",
      "| |       Hicimos un merge manual\n",
      "| |   \n",
      "| * commit 335123b69c4846795edf81b3436cd8b28ea55b8d\n",
      "| | Author: davidphysdavalos <davidwarro@gmail.com>\n",
      "| | Date:   Tue Feb 21 14:57:13 2017 -0600\n",
      "| | \n",
      "| |     Otra idea de alicia\n",
      "| |   \n",
      "* | commit decb6e3c2d9a9a6731a9015238561ae06178f8c3\n",
      "|/  Author: Bob <davidwarro@gmail.com>\n",
      "|   Date:   Tue Feb 21 14:57:13 2017 -0600\n",
      "|   \n",
      "|       Otra idea de bob\n",
      "|    \n",
      "*   commit b29537c586e9166e87ad05d468b4e76ae8715dc7\n",
      "|\\  Merge: 6da6ba4 ebe3d69\n",
      "| | Author: Bob <davidwarro@gmail.com>\n",
      "| | Date:   Tue Feb 21 14:57:13 2017 -0600\n",
      "| | \n",
      "| |     Merge branch 'master' of /mnt/homes/home/david/Desktop/original\n",
      "| |   \n",
      "| * commit ebe3d69d864929f239ad9ed745da0127509502a7\n",
      "| | Author: davidphysdavalos <davidwarro@gmail.com>\n",
      "| | Date:   Tue Feb 21 14:57:13 2017 -0600\n",
      "| | \n",
      "| |     Se anade la fecha\n",
      "| |   \n",
      "* | commit 6da6ba48d271884ab4f6bd8ff24711e1395eab06\n",
      "|/  Author: Bob <davidwarro@gmail.com>\n",
      "|   Date:   Tue Feb 21 14:57:13 2017 -0600\n",
      "|   \n",
      "|       Se anade otra fecha\n",
      "|  \n",
      "* commit 87e7216e03100c99cd52b47d239a085f0df3b2df\n",
      "| Author: Bob <davidwarro@gmail.com>\n",
      "| Date:   Tue Feb 21 14:57:13 2017 -0600\n",
      "| \n",
      "|     Nueva idea\n",
      "|  \n",
      "* commit 920ad4d08ac8995b55ea2c0b4242b98c9e656a31\n",
      "| Author: davidphysdavalos <davidwarro@gmail.com>\n",
      "| Date:   Tue Feb 21 14:57:13 2017 -0600\n",
      "| \n",
      "|     Se mejora el gitignore y se anade mas informcion a inicio.txt\n",
      "|  \n",
      "* commit d0c07f5446752599aa1313bfdce9c2e2b0d912f9\n",
      "  Author: davidphysdavalos <davidwarro@gmail.com>\n",
      "  Date:   Tue Feb 21 14:57:12 2017 -0600\n",
      "  \n",
      "      Commit inicial\n"
     ]
    }
   ],
   "source": [
    ";git log --graph --pretty"
   ]
  },
  {
   "cell_type": "markdown",
   "metadata": {
    "hidden": true
   },
   "source": [
    "### Cuando cambiamos el mismo archivo\n",
    "\n",
    "Esto no debería pasar. Pero en la practica, nos sucede con cierta frecuencia, especialmente editando notas. \n",
    "\n",
    "Vamos a hacer cambios en las dos partes (Alice y Bob) y veamos como se comporta `git` en cada una y como resolverlo. Ambas partes editarán el archivo `inicio.txt`."
   ]
  },
  {
   "cell_type": "code",
   "execution_count": 94,
   "metadata": {
    "collapsed": false,
    "hidden": true
   },
   "outputs": [
    {
     "name": "stdout",
     "output_type": "stream",
     "text": [
      "/mnt/homes/home/david/Desktop/alice\n"
     ]
    }
   ],
   "source": [
    ";pwd"
   ]
  },
  {
   "cell_type": "code",
   "execution_count": 95,
   "metadata": {
    "collapsed": false,
    "hidden": true
   },
   "outputs": [
    {
     "name": "stdout",
     "output_type": "stream",
     "text": [
      "[master 65ac135] Otra idea de alicia\n",
      " 1 file changed, 1 insertion(+)\n"
     ]
    },
    {
     "name": "stderr",
     "output_type": "stream",
     "text": [
      "To /mnt/homes/home/david/Desktop/original.git\n",
      "   42291f8..65ac135  master -> master\n"
     ]
    }
   ],
   "source": [
    ";echo \"comentario de alicia\" >> inicio.txt && git add . && git commit -m\"Otra idea de alicia\" && git push"
   ]
  },
  {
   "cell_type": "code",
   "execution_count": 96,
   "metadata": {
    "collapsed": false,
    "hidden": true
   },
   "outputs": [
    {
     "name": "stdout",
     "output_type": "stream",
     "text": [
      "/mnt/homes/home/david/Desktop/bob\n"
     ]
    }
   ],
   "source": [
    ";cd ../bob"
   ]
  },
  {
   "cell_type": "code",
   "execution_count": 97,
   "metadata": {
    "collapsed": false,
    "hidden": true
   },
   "outputs": [
    {
     "name": "stdout",
     "output_type": "stream",
     "text": [
      "[master 61def39] Otra idea de bob\n",
      " 1 file changed, 1 insertion(+)\n"
     ]
    }
   ],
   "source": [
    ";echo \"comentario de bob\" >> inicio.txt && git add . && git commit -m\"Otra idea de bob\""
   ]
  },
  {
   "cell_type": "code",
   "execution_count": 98,
   "metadata": {
    "collapsed": false,
    "hidden": true
   },
   "outputs": [
    {
     "name": "stderr",
     "output_type": "stream",
     "text": [
      "To /mnt/homes/home/david/Desktop/original.git\n",
      " ! [rejected]        master -> master (fetch first)\n",
      "error: failed to push some refs to '/mnt/homes/home/david/Desktop/original.git'\n",
      "hint: Updates were rejected because the remote contains work that you do\n",
      "hint: not have locally. This is usually caused by another repository pushing\n",
      "hint: to the same ref. You may want to first integrate the remote changes\n",
      "hint: (e.g., 'git pull ...') before pushing again.\n",
      "hint: See the 'Note about fast-forwards' in 'git push --help' for details.\n"
     ]
    }
   ],
   "source": [
    ";git push"
   ]
  },
  {
   "cell_type": "markdown",
   "metadata": {
    "hidden": true
   },
   "source": [
    "Naturalmente, los cambios de nuevo son rechazados. Intentamos hacer un pull, pero en esta ocasión tenemos un mensaje de error un poco mas severo. "
   ]
  },
  {
   "cell_type": "code",
   "execution_count": 99,
   "metadata": {
    "collapsed": false,
    "hidden": true
   },
   "outputs": [
    {
     "name": "stdout",
     "output_type": "stream",
     "text": [
      "Auto-merging inicio.txt\n",
      "CONFLICT (content): Merge conflict in inicio.txt\n",
      "Automatic merge failed; fix conflicts and then commit the result.\n"
     ]
    },
    {
     "name": "stderr",
     "output_type": "stream",
     "text": [
      "From /mnt/homes/home/david/Desktop/original\n",
      "   42291f8..65ac135  master     -> origin/master\n"
     ]
    }
   ],
   "source": [
    ";git pull"
   ]
  },
  {
   "cell_type": "markdown",
   "metadata": {
    "hidden": true
   },
   "source": [
    "Este error indica que tenemos qeu resolver el conflicto en forma manuala. Si nuestro archivo es código puro, como en este caso, no hay problema. Si es un archivo un poco mas complicado, típicamente toca escoger alguna de las versiones. En nuestro caso, podemos ver los dos contenidos del archivo:"
   ]
  },
  {
   "cell_type": "code",
   "execution_count": 100,
   "metadata": {
    "collapsed": false,
    "hidden": true
   },
   "outputs": [
    {
     "name": "stdout",
     "output_type": "stream",
     "text": [
      "iniciamos este archivo con perros y gatos\n",
      "mas informacion\n",
      "mar feb 21 14:57:13 CST 2017\n",
      "<<<<<<< HEAD\n",
      "comentario de bob\n",
      "=======\n",
      "comentario de alicia\n",
      "<<<<<<< HEAD\n",
      "iniciamos este archivo con perros y gatos\n",
      "mas informacion\n",
      "=======\n",
      ">>>>>>> 335123b69c4846795edf81b3436cd8b28ea55b8d\n",
      "propuesta para arreglo de bug 1\n",
      ">>>>>>> 335b6e284229a54ad0df71451a935bb60f7ea31b\n",
      "mar feb 21 14:58:17 CST 2017\n",
      "<<<<<<< HEAD\n",
      "comentario de bob\n",
      "=======\n",
      "comentario de alicia\n",
      ">>>>>>> 65ac135344c22564aff30109c668a6913ebd301d\n"
     ]
    }
   ],
   "source": [
    ";cat inicio.txt"
   ]
  },
  {
   "cell_type": "markdown",
   "metadata": {
    "hidden": true
   },
   "source": [
    "Podemos editarlo manualmente para que ahora se vea asi:"
   ]
  },
  {
   "cell_type": "code",
   "execution_count": 101,
   "metadata": {
    "collapsed": false,
    "hidden": true
   },
   "outputs": [
    {
     "name": "stdout",
     "output_type": "stream",
     "text": [
      "iniciamos este archivo con perros y gatos\n",
      "mas informacion\n",
      "mar feb 21 14:57:13 CST 2017\n",
      "<<<<<<< HEAD\n",
      "comentario de bob\n",
      "=======\n",
      "comentario de alicia\n",
      "<<<<<<< HEAD\n",
      "iniciamos este archivo con perros y gatos\n",
      "mas informacion\n",
      "=======\n",
      ">>>>>>> 335123b69c4846795edf81b3436cd8b28ea55b8d\n",
      "propuesta para arreglo de bug 1\n",
      ">>>>>>> 335b6e284229a54ad0df71451a935bb60f7ea31b\n",
      "mar feb 21 14:58:17 CST 2017\n",
      "<<<<<<< HEAD\n",
      "comentario de bob\n",
      "=======\n",
      "comentario de alicia\n",
      ">>>>>>> 65ac135344c22564aff30109c668a6913ebd301d\n"
     ]
    }
   ],
   "source": [
    ";cat inicio.txt"
   ]
  },
  {
   "cell_type": "markdown",
   "metadata": {
    "collapsed": true,
    "hidden": true
   },
   "source": [
    "Y ya podemos hacer un commit y su posterior push."
   ]
  },
  {
   "cell_type": "code",
   "execution_count": 102,
   "metadata": {
    "collapsed": false,
    "hidden": true
   },
   "outputs": [
    {
     "name": "stdout",
     "output_type": "stream",
     "text": [
      "[master 56d99d9] Hicimos un merge manual\n",
      "On branch master\n",
      "Your branch is up-to-date with 'origin/master'.\n",
      "\n",
      "nothing to commit, working directory clean\n"
     ]
    },
    {
     "name": "stderr",
     "output_type": "stream",
     "text": [
      "To /mnt/homes/home/david/Desktop/original.git\n",
      "   65ac135..56d99d9  master -> master\n"
     ]
    }
   ],
   "source": [
    ";git add . && git commit -m\"Hicimos un merge manual\" && git push && git status"
   ]
  },
  {
   "cell_type": "markdown",
   "metadata": {
    "heading_collapsed": true
   },
   "source": [
    "# 2. Trabajando en ramas"
   ]
  },
  {
   "cell_type": "markdown",
   "metadata": {
    "hidden": true
   },
   "source": [
    "El concepto de una *rama* (\"branch\") en git provee una forma sencilla y eficiente de trabajar en nuevas ideas, o de colaborar en un proyecto común, evitando romper cosas que a priori ya funcionan.\n",
    "\n",
    "Para empezar, listemos las ramas existentes de un proyecto (por ejemplo, en el directorio `Alicia/`):\n",
    "```\n",
    "    > git branch\n",
    "```\n",
    "o usando\n",
    "```\n",
    "    > git branch -v\n",
    "```\n",
    "que brinda además el hash del último commit. Lo que esto indica es que existe únicamente la rama `master`, que es la rama que se crea por default (y en algún sentido es la principal), y el asterisco indica que estamos trabajando en esa rama."
   ]
  },
  {
   "cell_type": "markdown",
   "metadata": {
    "hidden": true
   },
   "source": [
    "Para crear una nueva rama, ejecutamos:\n",
    "```\n",
    "    > git branch <nombre_rama>\n",
    "```\n",
    "donde `<nombre_rama>` es el nombre de la rama, que es más o menos arbitrario y flexible. Un \n",
    "ejemplo es: `bugfix1`.\n",
    "\n",
    "Después de ejecutar alguna de estas instrucciones, `git branch -v` nos informa que *ambas* ramas, `master` y `bugfix1` existen, ambas están en el (mismo) último commit, y el asterisco indica que estamos en la rama `master` aún.\n",
    "\n",
    "Para cambiarnos de rama, ejecutamos:\n",
    "```\n",
    "    > git checkout <nombre_rama>\n",
    "```\n",
    "Nuevamente, existe un atajo para crear y cambiarnos de rama de un golpe: `git checkout -b <nombre_rama>`.\n",
    "\n",
    "Ahora, la linea de status cobra mas sentido. "
   ]
  },
  {
   "cell_type": "code",
   "execution_count": 103,
   "metadata": {
    "collapsed": false,
    "hidden": true
   },
   "outputs": [
    {
     "name": "stderr",
     "output_type": "stream",
     "text": [
      "fatal: A branch named 'bugfix1' already exists.\n"
     ]
    }
   ],
   "source": [
    ";git checkout -b bugfix1 && git status"
   ]
  },
  {
   "cell_type": "markdown",
   "metadata": {
    "hidden": true
   },
   "source": [
    "Ahora podemos crear un archivo nuevo, y modificar uno existente. "
   ]
  },
  {
   "cell_type": "code",
   "execution_count": 104,
   "metadata": {
    "collapsed": true,
    "hidden": true
   },
   "outputs": [],
   "source": [
    ";echo \"propuesta para arreglo de bug 1\" >> inicio.txt && echo \"nuevo codigo qeu lo corrige\" >> arreglo_bug1.txt"
   ]
  },
  {
   "cell_type": "code",
   "execution_count": 105,
   "metadata": {
    "collapsed": false,
    "hidden": true
   },
   "outputs": [
    {
     "name": "stdout",
     "output_type": "stream",
     "text": [
      "[master 231ac5a] Primer intento de correccion\n",
      " 2 files changed, 2 insertions(+)\n"
     ]
    }
   ],
   "source": [
    ";git add . && git commit -m\"Primer intento de correccion\""
   ]
  },
  {
   "cell_type": "code",
   "execution_count": 106,
   "metadata": {
    "collapsed": false,
    "hidden": true
   },
   "outputs": [
    {
     "name": "stdout",
     "output_type": "stream",
     "text": [
      "arreglo_bug1.txt\n",
      "clases\n",
      "idea_bob.txt\n",
      "inicio.txt\n",
      "LICENSE.md\n",
      "notebooks\n",
      "README.md\n",
      "tareas\n"
     ]
    }
   ],
   "source": [
    ";ls"
   ]
  },
  {
   "cell_type": "code",
   "execution_count": 107,
   "metadata": {
    "collapsed": false,
    "hidden": true
   },
   "outputs": [
    {
     "name": "stdout",
     "output_type": "stream",
     "text": [
      "iniciamos este archivo con perros y gatos\n",
      "mas informacion\n",
      "mar feb 21 14:57:13 CST 2017\n",
      "<<<<<<< HEAD\n",
      "comentario de bob\n",
      "=======\n",
      "comentario de alicia\n",
      "<<<<<<< HEAD\n",
      "iniciamos este archivo con perros y gatos\n",
      "mas informacion\n",
      "=======\n",
      ">>>>>>> 335123b69c4846795edf81b3436cd8b28ea55b8d\n",
      "propuesta para arreglo de bug 1\n",
      ">>>>>>> 335b6e284229a54ad0df71451a935bb60f7ea31b\n",
      "mar feb 21 14:58:17 CST 2017\n",
      "<<<<<<< HEAD\n",
      "comentario de bob\n",
      "=======\n",
      "comentario de alicia\n",
      ">>>>>>> 65ac135344c22564aff30109c668a6913ebd301d\n",
      "propuesta para arreglo de bug 1\n"
     ]
    }
   ],
   "source": [
    ";cat inicio.txt"
   ]
  },
  {
   "cell_type": "code",
   "execution_count": 108,
   "metadata": {
    "collapsed": false,
    "hidden": true
   },
   "outputs": [
    {
     "name": "stdout",
     "output_type": "stream",
     "text": [
      "Your branch is ahead of 'origin/master' by 1 commit.\n",
      "  (use \"git push\" to publish your local commits)\n"
     ]
    },
    {
     "name": "stderr",
     "output_type": "stream",
     "text": [
      "Already on 'master'\n"
     ]
    }
   ],
   "source": [
    ";git checkout master"
   ]
  },
  {
   "cell_type": "code",
   "execution_count": 109,
   "metadata": {
    "collapsed": false,
    "hidden": true
   },
   "outputs": [
    {
     "name": "stdout",
     "output_type": "stream",
     "text": [
      "arreglo_bug1.txt\n",
      "clases\n",
      "idea_bob.txt\n",
      "inicio.txt\n",
      "LICENSE.md\n",
      "notebooks\n",
      "README.md\n",
      "tareas\n"
     ]
    }
   ],
   "source": [
    ";ls"
   ]
  },
  {
   "cell_type": "code",
   "execution_count": 110,
   "metadata": {
    "collapsed": false,
    "hidden": true
   },
   "outputs": [
    {
     "name": "stdout",
     "output_type": "stream",
     "text": [
      "iniciamos este archivo con perros y gatos\n",
      "mas informacion\n",
      "mar feb 21 14:57:13 CST 2017\n",
      "<<<<<<< HEAD\n",
      "comentario de bob\n",
      "=======\n",
      "comentario de alicia\n",
      "<<<<<<< HEAD\n",
      "iniciamos este archivo con perros y gatos\n",
      "mas informacion\n",
      "=======\n",
      ">>>>>>> 335123b69c4846795edf81b3436cd8b28ea55b8d\n",
      "propuesta para arreglo de bug 1\n",
      ">>>>>>> 335b6e284229a54ad0df71451a935bb60f7ea31b\n",
      "mar feb 21 14:58:17 CST 2017\n",
      "<<<<<<< HEAD\n",
      "comentario de bob\n",
      "=======\n",
      "comentario de alicia\n",
      ">>>>>>> 65ac135344c22564aff30109c668a6913ebd301d\n",
      "propuesta para arreglo de bug 1\n"
     ]
    }
   ],
   "source": [
    ";cat inicio.txt "
   ]
  },
  {
   "cell_type": "markdown",
   "metadata": {
    "hidden": true
   },
   "source": [
    "El punto importante hasta el momento es que la historia de los dos branches (locales) ha divergido, y *ambas* historias están en ambas ramas.\n",
    "\n",
    "Supongamos ahora que ya están satisfechos con los cambios que han hecho, después de muchas pruebas exhaustivas y otras fallidas (tal vez en otras ramas). Ahora queremos poner estos cambios en la rama `master`. Para esto, primero nos cambiamos a `master`, que es la rama a donde queremos pasar los cambios, y después hacemos un `merge`, o sea, fundimos las dos historias:\n",
    "```\n",
    "    > git checkout master   \n",
    "    > git merge <nombre_rama>\n",
    "```\n",
    "En nuestro caso, podemos simplemente hacer un merge, de la misma manera que haciamos con otros repositorios. En este caso, lo podemos hacer directamente. "
   ]
  },
  {
   "cell_type": "code",
   "execution_count": 111,
   "metadata": {
    "collapsed": false,
    "hidden": true
   },
   "outputs": [
    {
     "name": "stdout",
     "output_type": "stream",
     "text": [
      "Your branch is ahead of 'origin/master' by 1 commit.\n",
      "  (use \"git push\" to publish your local commits)\n",
      "Already up-to-date.\n"
     ]
    },
    {
     "name": "stderr",
     "output_type": "stream",
     "text": [
      "Already on 'master'\n"
     ]
    }
   ],
   "source": [
    ";git checkout master && git merge bugfix1"
   ]
  },
  {
   "cell_type": "markdown",
   "metadata": {
    "hidden": true
   },
   "source": [
    "De nuevo, un `git log` puede resultar particularmente util, si hemos hecho cambios en diferentes branches."
   ]
  },
  {
   "cell_type": "markdown",
   "metadata": {
    "heading_collapsed": true
   },
   "source": [
    "#  Apendice 1: Facilitar el flujo de trabajo con GitHub"
   ]
  },
  {
   "cell_type": "markdown",
   "metadata": {
    "hidden": true
   },
   "source": [
    "Para evitar que GitHub te esté pidiendo tu usuario y contraseña todo el tiempo, es necesario usar *claves de SSH* (SSH keys). En Linux y Mac, el procedimiento es como sigue. NB: **No** hacer esto desde una máquina/cuenta pública."
   ]
  },
  {
   "cell_type": "markdown",
   "metadata": {
    "hidden": true
   },
   "source": [
    "Utiliza el comando `ssh-keygen` para generar claves nuevas. Te pedirá que pongas una clave (\"passphrase\"); esta clave tendrás que ponerla sólo una vez por sesión."
   ]
  },
  {
   "cell_type": "code",
   "execution_count": 112,
   "metadata": {
    "collapsed": false,
    "hidden": true
   },
   "outputs": [
    {
     "name": "stdout",
     "output_type": "stream",
     "text": [
      "Generating public/private rsa key pair.\n"
     ]
    },
    {
     "name": "stderr",
     "output_type": "stream",
     "text": [
      "Enter file in which to save the key (/home/david/.ssh/id_rsa): "
     ]
    }
   ],
   "source": [
    ";ssh-keygen"
   ]
  },
  {
   "cell_type": "markdown",
   "metadata": {
    "hidden": true
   },
   "source": [
    "Esto generará claves en el directorio escondido `~/.ssh` en tu directorio hogar:"
   ]
  },
  {
   "cell_type": "code",
   "execution_count": 113,
   "metadata": {
    "collapsed": false,
    "hidden": true
   },
   "outputs": [
    {
     "name": "stdout",
     "output_type": "stream",
     "text": [
      "authorized_keys\n",
      "config\n",
      "config~\n",
      "id_rsa\n",
      "id_rsa.pub\n",
      "known_hosts\n",
      "known_hosts.old\n",
      "sabe\n"
     ]
    }
   ],
   "source": [
    ";ls ~/.ssh"
   ]
  },
  {
   "cell_type": "markdown",
   "metadata": {
    "hidden": true
   },
   "source": [
    "Ahora, copia la clave pública; esto se puede hacer a mano (copiando el *contenido*  del archivo `id_rsa.pub`), o usando un programa. E.g. en Mac, puedes usar `pbcopy` para copiar el contenido de un archivo al clipboard:"
   ]
  },
  {
   "cell_type": "code",
   "execution_count": 114,
   "metadata": {
    "collapsed": false,
    "hidden": true
   },
   "outputs": [
    {
     "name": "stderr",
     "output_type": "stream",
     "text": [
      "/bin/bash: pbcopy: command not found\n"
     ]
    }
   ],
   "source": [
    ";pbcopy < ~/.ssh/id_rsa.pub"
   ]
  },
  {
   "cell_type": "markdown",
   "metadata": {
    "hidden": true
   },
   "source": [
    "Ahora, hay que dar de alta las claves en GitHub:\n",
    "\n",
    "- Ve a la página de tu cuenta en GitHub\n",
    "- Escoge `Settings` (arriba, del lado derecho)\n",
    "- Escoge `SSH keys`\n",
    "- Escoge `Add SSH key`\n",
    "- Pega lo que copiaste\n",
    "\n",
    "Ya deberías poder hacer transacciones con GitHub sin que te pida tu usuario cada vez.\n"
   ]
  },
  {
   "cell_type": "markdown",
   "metadata": {
    "hidden": true
   },
   "source": [
    "Una vez más, **no** hagas esto en un máquina o cuenta pública."
   ]
  },
  {
   "cell_type": "markdown",
   "metadata": {},
   "source": [
    "# Apendice 2 Trabajar con un fork"
   ]
  },
  {
   "cell_type": "markdown",
   "metadata": {},
   "source": [
    "Normalmente hacemos un **fork** de un repositorio de interés en GitHub, es decir, una copia del repositorio en tu propia cuenta de GitHub.\n",
    "\n",
    "Al hacer `git clone ...` de tu fork, `git` provee un remote (es decir, un nombre para un repositorio remoto) llamado `origin`, que apunta a tu fork. Esto lo podemos ver con"
   ]
  },
  {
   "cell_type": "code",
   "execution_count": 6,
   "metadata": {
    "collapsed": false
   },
   "outputs": [
    {
     "name": "stdout",
     "output_type": "stream",
     "text": [
      "/mnt/homes/home/david/Desktop\n"
     ]
    }
   ],
   "source": [
    ";cd Desktop"
   ]
  },
  {
   "cell_type": "code",
   "execution_count": 7,
   "metadata": {
    "collapsed": false
   },
   "outputs": [
    {
     "name": "stderr",
     "output_type": "stream",
     "text": [
      "Cloning into 'MetodosNumericosAvanzados'...\n"
     ]
    }
   ],
   "source": [
    ";git clone https://github.com/davidphysdavalos/MetodosNumericosAvanzados.git"
   ]
  },
  {
   "cell_type": "code",
   "execution_count": 9,
   "metadata": {
    "collapsed": false
   },
   "outputs": [
    {
     "name": "stdout",
     "output_type": "stream",
     "text": [
      "/mnt/homes/home/david/Desktop/MetodosNumericosAvanzados\n"
     ]
    }
   ],
   "source": [
    ";cd MetodosNumericosAvanzados"
   ]
  },
  {
   "cell_type": "code",
   "execution_count": 10,
   "metadata": {
    "collapsed": false
   },
   "outputs": [
    {
     "name": "stdout",
     "output_type": "stream",
     "text": [
      "origin\thttps://github.com/davidphysdavalos/MetodosNumericosAvanzados.git (fetch)\n",
      "origin\thttps://github.com/davidphysdavalos/MetodosNumericosAvanzados.git (push)\n"
     ]
    }
   ],
   "source": [
    "; git remote -v"
   ]
  },
  {
   "cell_type": "markdown",
   "metadata": {},
   "source": [
    "Vemos que `origin` apunta al fork del repositorio `MetodosNumericosAvanzados` en mi cuenta de GitHub (con usuario `dpsanders`).\n",
    "\n",
    "Sin embargo, para mantener actualizado nuestro fork con respecto al repositorio original, debemos darle a conocer a `git` que también existe dicho repositorio. Si hacemos"
   ]
  },
  {
   "cell_type": "code",
   "execution_count": 11,
   "metadata": {
    "collapsed": false
   },
   "outputs": [
    {
     "name": "stdout",
     "output_type": "stream",
     "text": [
      "GIT-REMOTE(1)                     Git Manual                     GIT-REMOTE(1)\n",
      "\n",
      "\n",
      "\n",
      "NAME\n",
      "       git-remote - manage set of tracked repositories\n",
      "\n",
      "SYNOPSIS\n",
      "       git remote [-v | --verbose]\n",
      "       git remote add [-t <branch>] [-m <master>] [-f] [--[no-]tags] [--mirror=<fetch|push>] <name> <url>\n",
      "       git remote rename <old> <new>\n",
      "       git remote remove <name>\n",
      "       git remote set-head <name> (-a | --auto | -d | --delete | <branch>)\n",
      "       git remote set-branches [--add] <name> <branch>...\n",
      "       git remote set-url [--push] <name> <newurl> [<oldurl>]\n",
      "       git remote set-url --add [--push] <name> <newurl>\n",
      "       git remote set-url --delete [--push] <name> <url>\n",
      "       git remote [-v | --verbose] show [-n] <name>...\n",
      "       git remote prune [-n | --dry-run] <name>...\n",
      "       git remote [-v | --verbose] update [-p | --prune] [(<group> | <remote>)...]\n",
      "\n",
      "\n",
      "DESCRIPTION\n",
      "       Manage the set of repositories (\"remotes\") whose branches you track.\n",
      "\n",
      "OPTIONS\n",
      "       -v, --verbose\n",
      "           Be a little more verbose and show remote url after name. NOTE: This\n",
      "           must be placed between remote and subcommand.\n",
      "\n",
      "COMMANDS\n",
      "       With no arguments, shows a list of existing remotes. Several\n",
      "       subcommands are available to perform operations on the remotes.\n",
      "\n",
      "       add\n",
      "           Adds a remote named <name> for the repository at <url>. The command\n",
      "           git fetch <name> can then be used to create and update\n",
      "           remote-tracking branches <name>/<branch>.\n",
      "\n",
      "           With -f option, git fetch <name> is run immediately after the\n",
      "           remote information is set up.\n",
      "\n",
      "           With --tags option, git fetch <name> imports every tag from the\n",
      "           remote repository.\n",
      "\n",
      "           With --no-tags option, git fetch <name> does not import tags from\n",
      "           the remote repository.\n",
      "\n",
      "           With -t <branch> option, instead of the default glob refspec for\n",
      "           the remote to track all branches under the refs/remotes/<name>/\n",
      "           namespace, a refspec to track only <branch> is created. You can\n",
      "           give more than one -t <branch> to track multiple branches without\n",
      "           grabbing all branches.\n",
      "\n",
      "           With -m <master> option, a symbolic-ref refs/remotes/<name>/HEAD is\n",
      "           set up to point at remote’s <master> branch. See also the set-head\n",
      "           command.\n",
      "\n",
      "           When a fetch mirror is created with --mirror=fetch, the refs will\n",
      "           not be stored in the refs/remotes/ namespace, but rather everything\n",
      "           in refs/ on the remote will be directly mirrored into refs/ in the\n",
      "           local repository. This option only makes sense in bare\n",
      "           repositories, because a fetch would overwrite any local commits.\n",
      "\n",
      "           When a push mirror is created with --mirror=push, then git push\n",
      "           will always behave as if --mirror was passed.\n",
      "\n",
      "       rename\n",
      "           Rename the remote named <old> to <new>. All remote-tracking\n",
      "           branches and configuration settings for the remote are updated.\n",
      "\n",
      "           In case <old> and <new> are the same, and <old> is a file under\n",
      "           $GIT_DIR/remotes or $GIT_DIR/branches, the remote is converted to\n",
      "           the configuration file format.\n",
      "\n",
      "       remove, rm\n",
      "           Remove the remote named <name>. All remote-tracking branches and\n",
      "           configuration settings for the remote are removed.\n",
      "\n",
      "       set-head\n",
      "           Sets or deletes the default branch (i.e. the target of the\n",
      "           symbolic-ref refs/remotes/<name>/HEAD) for the named remote. Having\n",
      "           a default branch for a remote is not required, but allows the name\n",
      "           of the remote to be specified in lieu of a specific branch. For\n",
      "           example, if the default branch for origin is set to master, then\n",
      "           origin may be specified wherever you would normally specify\n",
      "           origin/master.\n",
      "\n",
      "           With -d or --delete, the symbolic ref refs/remotes/<name>/HEAD is\n",
      "           deleted.\n",
      "\n",
      "           With -a or --auto, the remote is queried to determine its HEAD,\n",
      "           then the symbolic-ref refs/remotes/<name>/HEAD is set to the same\n",
      "           branch. e.g., if the remote HEAD is pointed at next, \"git remote\n",
      "           set-head origin -a\" will set the symbolic-ref\n",
      "           refs/remotes/origin/HEAD to refs/remotes/origin/next. This will\n",
      "           only work if refs/remotes/origin/next already exists; if not it\n",
      "           must be fetched first.\n",
      "\n",
      "           Use <branch> to set the symbolic-ref refs/remotes/<name>/HEAD\n",
      "           explicitly. e.g., \"git remote set-head origin master\" will set the\n",
      "           symbolic-ref refs/remotes/origin/HEAD to\n",
      "           refs/remotes/origin/master. This will only work if\n",
      "           refs/remotes/origin/master already exists; if not it must be\n",
      "           fetched first.\n",
      "\n",
      "       set-branches\n",
      "           Changes the list of branches tracked by the named remote. This can\n",
      "           be used to track a subset of the available remote branches after\n",
      "           the initial setup for a remote.\n",
      "\n",
      "           The named branches will be interpreted as if specified with the -t\n",
      "           option on the git remote add command line.\n",
      "\n",
      "           With --add, instead of replacing the list of currently tracked\n",
      "           branches, adds to that list.\n",
      "\n",
      "       set-url\n",
      "           Changes URL remote points to. Sets first URL remote points to\n",
      "           matching regex <oldurl> (first URL if no <oldurl> is given) to\n",
      "           <newurl>. If <oldurl> doesn’t match any URL, error occurs and\n",
      "           nothing is changed.\n",
      "\n",
      "           With --push, push URLs are manipulated instead of fetch URLs.\n",
      "\n",
      "           With --add, instead of changing some URL, new URL is added.\n",
      "\n",
      "           With --delete, instead of changing some URL, all URLs matching\n",
      "           regex <url> are deleted. Trying to delete all non-push URLs is an\n",
      "           error.\n",
      "\n",
      "       show\n",
      "           Gives some information about the remote <name>.\n",
      "\n",
      "           With -n option, the remote heads are not queried first with git\n",
      "           ls-remote <name>; cached information is used instead.\n",
      "\n",
      "       prune\n",
      "           Deletes all stale remote-tracking branches under <name>. These\n",
      "           stale branches have already been removed from the remote repository\n",
      "           referenced by <name>, but are still locally available in\n",
      "           \"remotes/<name>\".\n",
      "\n",
      "           With --dry-run option, report what branches will be pruned, but do\n",
      "           not actually prune them.\n",
      "\n",
      "       update\n",
      "           Fetch updates for a named set of remotes in the repository as\n",
      "           defined by remotes.<group>. If a named group is not specified on\n",
      "           the command line, the configuration parameter remotes.default will\n",
      "           be used; if remotes.default is not defined, all remotes which do\n",
      "           not have the configuration parameter\n",
      "           remote.<name>.skipDefaultUpdate set to true will be updated. (See\n",
      "           git-config(1)).\n",
      "\n",
      "           With --prune option, prune all the remotes that are updated.\n",
      "\n",
      "DISCUSSION\n",
      "       The remote configuration is achieved using the remote.origin.url and\n",
      "       remote.origin.fetch configuration variables. (See git-config(1)).\n",
      "\n",
      "EXAMPLES\n",
      "       ·   Add a new remote, fetch, and check out a branch from it\n",
      "\n",
      "               $ git remote\n",
      "               origin\n",
      "               $ git branch -r\n",
      "                 origin/HEAD -> origin/master\n",
      "                 origin/master\n",
      "               $ git remote add staging git://git.kernel.org/.../gregkh/staging.git\n",
      "               $ git remote\n",
      "               origin\n",
      "               staging\n",
      "               $ git fetch staging\n",
      "               ...\n",
      "               From git://git.kernel.org/pub/scm/linux/kernel/git/gregkh/staging\n",
      "                * [new branch]      master     -> staging/master\n",
      "                * [new branch]      staging-linus -> staging/staging-linus\n",
      "                * [new branch]      staging-next -> staging/staging-next\n",
      "               $ git branch -r\n",
      "                 origin/HEAD -> origin/master\n",
      "                 origin/master\n",
      "                 staging/master\n",
      "                 staging/staging-linus\n",
      "                 staging/staging-next\n",
      "               $ git checkout -b staging staging/master\n",
      "               ...\n",
      "\n",
      "\n",
      "       ·   Imitate git clone but track only selected branches\n",
      "\n",
      "               $ mkdir project.git\n",
      "               $ cd project.git\n",
      "               $ git init\n",
      "               $ git remote add -f -t master -m master origin git://example.com/git.git/\n",
      "               $ git merge origin\n",
      "\n",
      "\n",
      "SEE ALSO\n",
      "       git-fetch(1) git-branch(1) git-config(1)\n",
      "\n",
      "GIT\n",
      "       Part of the git(1) suite\n",
      "\n",
      "\n",
      "\n",
      "Git 1.9.1                         03/21/2016                     GIT-REMOTE(1)\n"
     ]
    }
   ],
   "source": [
    ";git help remote"
   ]
  },
  {
   "cell_type": "markdown",
   "metadata": {},
   "source": [
    "vemos que hay un subcomando `add` de remote. Así que hacemos"
   ]
  },
  {
   "cell_type": "code",
   "execution_count": 12,
   "metadata": {
    "collapsed": false
   },
   "outputs": [],
   "source": [
    "; git remote add upstream https://github.com/dpsanders/MetodosNumericosAvanzados"
   ]
  },
  {
   "cell_type": "markdown",
   "metadata": {},
   "source": [
    "El nombre usual que se le asigna al repositorio original es `upstream`.\n",
    "\n",
    "Ahora podemos actualizar nuestro repositorio *local* con "
   ]
  },
  {
   "cell_type": "code",
   "execution_count": 13,
   "metadata": {
    "collapsed": false
   },
   "outputs": [
    {
     "name": "stdout",
     "output_type": "stream",
     "text": [
      "Already up-to-date.\n"
     ]
    },
    {
     "name": "stderr",
     "output_type": "stream",
     "text": [
      "From https://github.com/dpsanders/MetodosNumericosAvanzados\n",
      " * branch            master     -> FETCH_HEAD\n",
      " * [new branch]      master     -> upstream/master\n"
     ]
    }
   ],
   "source": [
    "; git pull upstream master"
   ]
  },
  {
   "cell_type": "markdown",
   "metadata": {},
   "source": [
    "(el cual jala la rama `master` del repositorio apuntado por `upstream`).\n",
    "\n",
    "Ahora al hacer"
   ]
  },
  {
   "cell_type": "code",
   "execution_count": 14,
   "metadata": {
    "collapsed": false
   },
   "outputs": [
    {
     "name": "stderr",
     "output_type": "stream",
     "text": [
      "Everything up-to-date\n"
     ]
    }
   ],
   "source": [
    "; git push"
   ]
  },
  {
   "cell_type": "markdown",
   "metadata": {},
   "source": [
    "empuja los cambios a `origin`, o sea, a nuestro propio fork."
   ]
  },
  {
   "cell_type": "markdown",
   "metadata": {
    "collapsed": true
   },
   "source": [
    "* __Ejercicio:__ Hacer un fork del repositorio de la clase en su cuenta de github. Hacer un git clone de su fork y agregar un archivo con el formato que deben llevar las tareas, donde el contenido sea el nombre de su cerveza favorita.\n",
    "\n",
    "Recordemos el formato de la tarea: T(numero)(nombre).extension"
   ]
  },
  {
   "cell_type": "markdown",
   "metadata": {},
   "source": [
    "# Para la siguiente iteracion\n",
    "\n",
    "* Revisar que el git config funciona donde lo voy a hacer. \n",
    "* Poner los dibujitos explicitamente en el notebook\n",
    "\n"
   ]
  }
 ],
 "metadata": {
  "kernelspec": {
   "display_name": "Julia 0.5.0",
   "language": "julia",
   "name": "julia-0.5"
  },
  "language_info": {
   "file_extension": ".jl",
   "mimetype": "application/julia",
   "name": "julia",
   "version": "0.5.0"
  },
  "latex_envs": {
   "bibliofile": "biblio.bib",
   "cite_by": "apalike",
   "current_citInitial": 1,
   "eqLabelWithNumbers": true,
   "eqNumInitial": 0
  }
 },
 "nbformat": 4,
 "nbformat_minor": 0
}
